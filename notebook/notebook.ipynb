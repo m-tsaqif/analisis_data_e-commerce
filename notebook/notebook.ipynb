{
 "cells": [
  {
   "cell_type": "markdown",
   "metadata": {
    "id": "H9wADwK78DCz"
   },
   "source": [
    "# Proyek Analisis Data: E-Commerce Public Datasets\n",
    "- **Nama:** Muhammad Tsaqif\n",
    "- **Email:** mtsaqif08@gmail.com\n",
    "- **ID Dicoding:** MC004D5Y2062"
   ]
  },
  {
   "cell_type": "markdown",
   "metadata": {
    "id": "eE0raob58DC0"
   },
   "source": [
    "## Pertanyaan Bisnis"
   ]
  },
  {
   "cell_type": "markdown",
   "metadata": {
    "id": "GmQeQ5YF8DC0"
   },
   "source": [
    "- **Membuat Prediksi (Visual Tren)**\n",
    "  > Bagaimana perubahan nilai rata-rata pembayaran pelanggan dari waktu ke waktu selama 12 bulan terakhir, dan adakah periode tertentu yang menunjukkan tren kenaikan atau penurunan signifikan?\n",
    "\n",
    "- **Menemukan Hubungan**\n",
    "  > Bagaimana hubungan antara harga produk dan biaya pengiriman dalam data pesanan?"
   ]
  },
  {
   "cell_type": "markdown",
   "metadata": {
    "id": "H-z4QGlO8DC1"
   },
   "source": [
    "## Import Library"
   ]
  },
  {
   "cell_type": "code",
   "execution_count": 1,
   "metadata": {
    "id": "FVYwaObI8DC1"
   },
   "outputs": [],
   "source": [
    "#!pip install numpy pandas matplotlib seaborn scipy jinja2 ipython\n",
    "\n",
    "import os\n",
    "import warnings\n",
    "warnings.filterwarnings('ignore')\n",
    "from IPython.display import display\n",
    "\n",
    "import pandas as pd\n",
    "import numpy as np\n",
    "import matplotlib.pyplot as plt\n",
    "import seaborn as sns\n",
    "from scipy import stats"
   ]
  },
  {
   "cell_type": "code",
   "execution_count": 2,
   "metadata": {},
   "outputs": [],
   "source": [
    "def get_filenames(folder_path):\n",
    "    \"\"\"\n",
    "    Mengembalikan daftar semua nama file dalam folder yang diberikan.\n",
    "\n",
    "    Args:\n",
    "    folder_path (str): Lokasi folder yang berisi file.\n",
    "\n",
    "    Returns:\n",
    "    list: Daftar nama file yang ada di folder tersebut, hanya file (bukan direktori).\n",
    "    \n",
    "    Raises:\n",
    "    FileNotFoundError: Jika folder tidak ditemukan.\n",
    "    \"\"\"\n",
    "    try:\n",
    "        return [f for f in os.listdir(folder_path) if os.path.isfile(os.path.join(folder_path, f))]\n",
    "    except FileNotFoundError:\n",
    "        print(f\"Folder '{folder_path}' tidak ditemukan.\")\n",
    "\n",
    "def read_csv_datasets(file_list, folder_path=\"datasets\"):\n",
    "    \"\"\"\n",
    "    Membaca file CSV dari list nama file dan mengembalikannya dalam dictionary.\n",
    "\n",
    "    Args:\n",
    "    file_list (list): Daftar nama file yang akan dibaca.\n",
    "    folder_path (str): Lokasi folder tempat file CSV disimpan (default \"datasets\").\n",
    "\n",
    "    Returns:\n",
    "    dict: Dictionary dengan nama file sebagai key dan dataframe sebagai value.\n",
    "    \"\"\"\n",
    "    return {\n",
    "        os.path.splitext(file)[0]: pd.read_csv(fp)\n",
    "        for file in file_list if file.endswith(\".csv\") and os.path.isfile(fp := os.path.join(folder_path, file))\n",
    "    }\n",
    "\n",
    "class OutlierDetector:\n",
    "    \"\"\"\n",
    "    Kelas untuk mendeteksi outlier dalam data menggunakan metode IQR dan Z-Score.\n",
    "\n",
    "    Attributes:\n",
    "    data (pd.DataFrame): DataFrame yang berisi data yang akan dianalisis.\n",
    "    selected_columns (list): Daftar kolom yang ingin dianalisis. Jika None, semua kolom akan dianalisis.\n",
    "\n",
    "    Methods:\n",
    "    detect_iqr(): Deteksi outlier menggunakan Interquartile Range (IQR).\n",
    "    detect_zscore(threshold=3): Deteksi outlier menggunakan Z-Score dengan ambang batas tertentu.\n",
    "    plot_boxplot(): Menampilkan boxplot untuk kolom yang dipilih.\n",
    "    \"\"\"\n",
    "    \n",
    "    def __init__(self, data, selected_columns=None):\n",
    "        \"\"\"\n",
    "        Inisialisasi dengan data (Pandas DataFrame) dan kolom yang ingin dianalisis.\n",
    "\n",
    "        Args:\n",
    "        data (pd.DataFrame): DataFrame yang berisi data yang akan dianalisis.\n",
    "        selected_columns (list, optional): Kolom yang ingin dianalisis. Default adalah semua kolom.\n",
    "        \n",
    "        Raises:\n",
    "        TypeError: Jika data bukan merupakan Pandas DataFrame.\n",
    "        \"\"\"\n",
    "        if not isinstance(data, pd.DataFrame):\n",
    "            raise TypeError(\"Data harus berupa Pandas DataFrame\")\n",
    "        self.data = data\n",
    "        self.selected_columns = selected_columns.tolist() if isinstance(selected_columns, pd.Index) else (selected_columns if selected_columns else data.columns.tolist())\n",
    "\n",
    "    def detect_iqr(self):\n",
    "        \"\"\"\n",
    "        Deteksi outlier menggunakan Interquartile Range (IQR) hanya untuk kolom yang dipilih.\n",
    "\n",
    "        Returns:\n",
    "        dict: Dictionary dengan nama kolom sebagai key dan nilai outlier sebagai value.\n",
    "        \"\"\"\n",
    "        outliers = {}\n",
    "        for col in self.selected_columns:\n",
    "            Q1 = self.data[col].quantile(0.25)\n",
    "            Q3 = self.data[col].quantile(0.75)\n",
    "            IQR = Q3 - Q1\n",
    "            lower_bound = Q1 - 1.5 * IQR\n",
    "            upper_bound = Q3 + 1.5 * IQR\n",
    "            outliers[col] = self.data[(self.data[col] < lower_bound) | (self.data[col] > upper_bound)][col]\n",
    "        return outliers\n",
    "\n",
    "    def detect_zscore(self, threshold=3):\n",
    "        \"\"\"\n",
    "        Deteksi outlier menggunakan Z-Score hanya untuk kolom yang dipilih.\n",
    "\n",
    "        Args:\n",
    "        threshold (int, optional): Ambang batas Z-Score untuk mendeteksi outlier. Default adalah 3.\n",
    "\n",
    "        Returns:\n",
    "        dict: Dictionary dengan nama kolom sebagai key dan nilai outlier sebagai value.\n",
    "        \"\"\"\n",
    "        outliers = {}\n",
    "        for col in self.selected_columns:\n",
    "            z_scores = np.abs(stats.zscore(self.data[col]))\n",
    "            outliers[col] = self.data[z_scores > threshold][col]\n",
    "        return outliers\n",
    "\n",
    "    def plot_boxplot(self):\n",
    "        \"\"\"\n",
    "        Menampilkan boxplot hanya untuk kolom yang dipilih.\n",
    "        \"\"\"\n",
    "        num_cols = len(self.selected_columns)\n",
    "        fig, axes = plt.subplots(1, num_cols, figsize=(6 * num_cols, 5))\n",
    "        if num_cols == 1:\n",
    "            axes = [axes]\n",
    "        for ax, col in zip(axes, self.selected_columns):\n",
    "            ax.boxplot(self.data[col], vert=False)\n",
    "            ax.set_title(f\"Boxplot - {col}\")\n",
    "            ax.set_xlabel(\"Value\")\n",
    "        plt.tight_layout()\n",
    "        plt.show()\n",
    "\n",
    "def check_missing_values(data):\n",
    "    \"\"\"\n",
    "    Menghitung jumlah dan persentase nilai yang hilang dalam data.\n",
    "\n",
    "    Args:\n",
    "    data (pd.DataFrame): DataFrame yang akan dianalisis.\n",
    "\n",
    "    Returns:\n",
    "    pd.DataFrame: DataFrame dengan jumlah dan persentase nilai yang hilang per kolom.\n",
    "    \"\"\"\n",
    "    return pd.DataFrame({\n",
    "        'jumlah': data.isna().sum(),\n",
    "        'persentase (%)': np.round(data.isna().mean() * 100, 2)\n",
    "    })"
   ]
  },
  {
   "cell_type": "markdown",
   "metadata": {
    "id": "h_Sh51Xy8DC1"
   },
   "source": [
    "## Data Wrangling"
   ]
  },
  {
   "cell_type": "markdown",
   "metadata": {
    "id": "sXU2GBYu8DC1"
   },
   "source": [
    "### Gathering Data"
   ]
  },
  {
   "cell_type": "code",
   "execution_count": 3,
   "metadata": {},
   "outputs": [
    {
     "name": "stdout",
     "output_type": "stream",
     "text": [
      "customers_dataset\n",
      "geolocation_dataset\n",
      "orders_dataset\n",
      "order_items_dataset\n",
      "order_payments_dataset\n",
      "order_reviews_dataset\n",
      "products_dataset\n",
      "product_category_name_translation\n",
      "sellers_dataset\n"
     ]
    }
   ],
   "source": [
    "# Menentukan folder tempat dataset berada\n",
    "folder_path = '../datasets'\n",
    "\n",
    "try:\n",
    "    # Cek apakah folder ada\n",
    "    if not os.path.exists(folder_path):\n",
    "        raise FileNotFoundError(f\"Folder '{folder_path}' tidak ditemukan\")\n",
    "    \n",
    "    # Mengambil daftar nama file CSV dari folder\n",
    "    file_list = [f for f in os.listdir(folder_path) if f.endswith('.csv')]\n",
    "    \n",
    "    if not file_list:\n",
    "        print(\"Tidak ada file CSV ditemukan di folder tersebut\")\n",
    "    else:\n",
    "        # Membaca semua file CSV menjadi dictionary of DataFrame\n",
    "        df = {os.path.splitext(filename)[0]: pd.read_csv(os.path.join(folder_path, filename)) \n",
    "              for filename in file_list}\n",
    "        \n",
    "        # Menampilkan nama-nama dataset (tanpa ekstensi .csv)\n",
    "        print(\"\\n\".join(df.keys()))\n",
    "\n",
    "except FileNotFoundError as e:\n",
    "    print(str(e))\n",
    "except Exception as e:\n",
    "    print(f\"Terjadi error saat memuat file: {str(e)}\")"
   ]
  },
  {
   "cell_type": "code",
   "execution_count": 4,
   "metadata": {},
   "outputs": [
    {
     "name": "stdout",
     "output_type": "stream",
     "text": [
      "\n",
      "\n",
      "Dataset: customers_dataset (99441, 5)\n"
     ]
    },
    {
     "data": {
      "application/vnd.microsoft.datawrangler.viewer.v0+json": {
       "columns": [
        {
         "name": "index",
         "rawType": "int64",
         "type": "integer"
        },
        {
         "name": "customer_id",
         "rawType": "object",
         "type": "string"
        },
        {
         "name": "customer_unique_id",
         "rawType": "object",
         "type": "string"
        },
        {
         "name": "customer_zip_code_prefix",
         "rawType": "int64",
         "type": "integer"
        },
        {
         "name": "customer_city",
         "rawType": "object",
         "type": "string"
        },
        {
         "name": "customer_state",
         "rawType": "object",
         "type": "string"
        }
       ],
       "conversionMethod": "pd.DataFrame",
       "ref": "b570db9f-4939-42bc-9280-83efe2f4826f",
       "rows": [
        [
         "0",
         "06b8999e2fba1a1fbc88172c00ba8bc7",
         "861eff4711a542e4b93843c6dd7febb0",
         "14409",
         "franca",
         "SP"
        ],
        [
         "1",
         "18955e83d337fd6b2def6b18a428ac77",
         "290c77bc529b7ac935b93aa66c333dc3",
         "9790",
         "sao bernardo do campo",
         "SP"
        ],
        [
         "2",
         "4e7b3e00288586ebd08712fdd0374a03",
         "060e732b5b29e8181a18229c7b0b2b5e",
         "1151",
         "sao paulo",
         "SP"
        ],
        [
         "3",
         "b2b6027bc5c5109e529d4dc6358b12c3",
         "259dac757896d24d7702b9acbbff3f3c",
         "8775",
         "mogi das cruzes",
         "SP"
        ],
        [
         "4",
         "4f2d8ab171c80ec8364f7c12e35b23ad",
         "345ecd01c38d18a9036ed96c73b8d066",
         "13056",
         "campinas",
         "SP"
        ]
       ],
       "shape": {
        "columns": 5,
        "rows": 5
       }
      },
      "text/html": [
       "<div>\n",
       "<style scoped>\n",
       "    .dataframe tbody tr th:only-of-type {\n",
       "        vertical-align: middle;\n",
       "    }\n",
       "\n",
       "    .dataframe tbody tr th {\n",
       "        vertical-align: top;\n",
       "    }\n",
       "\n",
       "    .dataframe thead th {\n",
       "        text-align: right;\n",
       "    }\n",
       "</style>\n",
       "<table border=\"1\" class=\"dataframe\">\n",
       "  <thead>\n",
       "    <tr style=\"text-align: right;\">\n",
       "      <th></th>\n",
       "      <th>customer_id</th>\n",
       "      <th>customer_unique_id</th>\n",
       "      <th>customer_zip_code_prefix</th>\n",
       "      <th>customer_city</th>\n",
       "      <th>customer_state</th>\n",
       "    </tr>\n",
       "  </thead>\n",
       "  <tbody>\n",
       "    <tr>\n",
       "      <th>0</th>\n",
       "      <td>06b8999e2fba1a1fbc88172c00ba8bc7</td>\n",
       "      <td>861eff4711a542e4b93843c6dd7febb0</td>\n",
       "      <td>14409</td>\n",
       "      <td>franca</td>\n",
       "      <td>SP</td>\n",
       "    </tr>\n",
       "    <tr>\n",
       "      <th>1</th>\n",
       "      <td>18955e83d337fd6b2def6b18a428ac77</td>\n",
       "      <td>290c77bc529b7ac935b93aa66c333dc3</td>\n",
       "      <td>9790</td>\n",
       "      <td>sao bernardo do campo</td>\n",
       "      <td>SP</td>\n",
       "    </tr>\n",
       "    <tr>\n",
       "      <th>2</th>\n",
       "      <td>4e7b3e00288586ebd08712fdd0374a03</td>\n",
       "      <td>060e732b5b29e8181a18229c7b0b2b5e</td>\n",
       "      <td>1151</td>\n",
       "      <td>sao paulo</td>\n",
       "      <td>SP</td>\n",
       "    </tr>\n",
       "    <tr>\n",
       "      <th>3</th>\n",
       "      <td>b2b6027bc5c5109e529d4dc6358b12c3</td>\n",
       "      <td>259dac757896d24d7702b9acbbff3f3c</td>\n",
       "      <td>8775</td>\n",
       "      <td>mogi das cruzes</td>\n",
       "      <td>SP</td>\n",
       "    </tr>\n",
       "    <tr>\n",
       "      <th>4</th>\n",
       "      <td>4f2d8ab171c80ec8364f7c12e35b23ad</td>\n",
       "      <td>345ecd01c38d18a9036ed96c73b8d066</td>\n",
       "      <td>13056</td>\n",
       "      <td>campinas</td>\n",
       "      <td>SP</td>\n",
       "    </tr>\n",
       "  </tbody>\n",
       "</table>\n",
       "</div>"
      ],
      "text/plain": [
       "                        customer_id                customer_unique_id  \\\n",
       "0  06b8999e2fba1a1fbc88172c00ba8bc7  861eff4711a542e4b93843c6dd7febb0   \n",
       "1  18955e83d337fd6b2def6b18a428ac77  290c77bc529b7ac935b93aa66c333dc3   \n",
       "2  4e7b3e00288586ebd08712fdd0374a03  060e732b5b29e8181a18229c7b0b2b5e   \n",
       "3  b2b6027bc5c5109e529d4dc6358b12c3  259dac757896d24d7702b9acbbff3f3c   \n",
       "4  4f2d8ab171c80ec8364f7c12e35b23ad  345ecd01c38d18a9036ed96c73b8d066   \n",
       "\n",
       "   customer_zip_code_prefix          customer_city customer_state  \n",
       "0                     14409                 franca             SP  \n",
       "1                      9790  sao bernardo do campo             SP  \n",
       "2                      1151              sao paulo             SP  \n",
       "3                      8775        mogi das cruzes             SP  \n",
       "4                     13056               campinas             SP  "
      ]
     },
     "metadata": {},
     "output_type": "display_data"
    },
    {
     "name": "stdout",
     "output_type": "stream",
     "text": [
      "\n",
      "\n",
      "Dataset: geolocation_dataset (1000163, 5)\n"
     ]
    },
    {
     "data": {
      "application/vnd.microsoft.datawrangler.viewer.v0+json": {
       "columns": [
        {
         "name": "index",
         "rawType": "int64",
         "type": "integer"
        },
        {
         "name": "geolocation_zip_code_prefix",
         "rawType": "int64",
         "type": "integer"
        },
        {
         "name": "geolocation_lat",
         "rawType": "float64",
         "type": "float"
        },
        {
         "name": "geolocation_lng",
         "rawType": "float64",
         "type": "float"
        },
        {
         "name": "geolocation_city",
         "rawType": "object",
         "type": "string"
        },
        {
         "name": "geolocation_state",
         "rawType": "object",
         "type": "string"
        }
       ],
       "conversionMethod": "pd.DataFrame",
       "ref": "c6c97630-6619-4af7-8258-e3a07f7c6b1c",
       "rows": [
        [
         "0",
         "1037",
         "-23.54562128115268",
         "-46.63929204800168",
         "sao paulo",
         "SP"
        ],
        [
         "1",
         "1046",
         "-23.54608112703553",
         "-46.64482029837157",
         "sao paulo",
         "SP"
        ],
        [
         "2",
         "1046",
         "-23.54612896641469",
         "-46.64295148361138",
         "sao paulo",
         "SP"
        ],
        [
         "3",
         "1041",
         "-23.5443921648681",
         "-46.63949930627844",
         "sao paulo",
         "SP"
        ],
        [
         "4",
         "1035",
         "-23.541577961711493",
         "-46.64160722329613",
         "sao paulo",
         "SP"
        ]
       ],
       "shape": {
        "columns": 5,
        "rows": 5
       }
      },
      "text/html": [
       "<div>\n",
       "<style scoped>\n",
       "    .dataframe tbody tr th:only-of-type {\n",
       "        vertical-align: middle;\n",
       "    }\n",
       "\n",
       "    .dataframe tbody tr th {\n",
       "        vertical-align: top;\n",
       "    }\n",
       "\n",
       "    .dataframe thead th {\n",
       "        text-align: right;\n",
       "    }\n",
       "</style>\n",
       "<table border=\"1\" class=\"dataframe\">\n",
       "  <thead>\n",
       "    <tr style=\"text-align: right;\">\n",
       "      <th></th>\n",
       "      <th>geolocation_zip_code_prefix</th>\n",
       "      <th>geolocation_lat</th>\n",
       "      <th>geolocation_lng</th>\n",
       "      <th>geolocation_city</th>\n",
       "      <th>geolocation_state</th>\n",
       "    </tr>\n",
       "  </thead>\n",
       "  <tbody>\n",
       "    <tr>\n",
       "      <th>0</th>\n",
       "      <td>1037</td>\n",
       "      <td>-23.545621</td>\n",
       "      <td>-46.639292</td>\n",
       "      <td>sao paulo</td>\n",
       "      <td>SP</td>\n",
       "    </tr>\n",
       "    <tr>\n",
       "      <th>1</th>\n",
       "      <td>1046</td>\n",
       "      <td>-23.546081</td>\n",
       "      <td>-46.644820</td>\n",
       "      <td>sao paulo</td>\n",
       "      <td>SP</td>\n",
       "    </tr>\n",
       "    <tr>\n",
       "      <th>2</th>\n",
       "      <td>1046</td>\n",
       "      <td>-23.546129</td>\n",
       "      <td>-46.642951</td>\n",
       "      <td>sao paulo</td>\n",
       "      <td>SP</td>\n",
       "    </tr>\n",
       "    <tr>\n",
       "      <th>3</th>\n",
       "      <td>1041</td>\n",
       "      <td>-23.544392</td>\n",
       "      <td>-46.639499</td>\n",
       "      <td>sao paulo</td>\n",
       "      <td>SP</td>\n",
       "    </tr>\n",
       "    <tr>\n",
       "      <th>4</th>\n",
       "      <td>1035</td>\n",
       "      <td>-23.541578</td>\n",
       "      <td>-46.641607</td>\n",
       "      <td>sao paulo</td>\n",
       "      <td>SP</td>\n",
       "    </tr>\n",
       "  </tbody>\n",
       "</table>\n",
       "</div>"
      ],
      "text/plain": [
       "   geolocation_zip_code_prefix  geolocation_lat  geolocation_lng  \\\n",
       "0                         1037       -23.545621       -46.639292   \n",
       "1                         1046       -23.546081       -46.644820   \n",
       "2                         1046       -23.546129       -46.642951   \n",
       "3                         1041       -23.544392       -46.639499   \n",
       "4                         1035       -23.541578       -46.641607   \n",
       "\n",
       "  geolocation_city geolocation_state  \n",
       "0        sao paulo                SP  \n",
       "1        sao paulo                SP  \n",
       "2        sao paulo                SP  \n",
       "3        sao paulo                SP  \n",
       "4        sao paulo                SP  "
      ]
     },
     "metadata": {},
     "output_type": "display_data"
    },
    {
     "name": "stdout",
     "output_type": "stream",
     "text": [
      "\n",
      "\n",
      "Dataset: orders_dataset (99441, 8)\n"
     ]
    },
    {
     "data": {
      "application/vnd.microsoft.datawrangler.viewer.v0+json": {
       "columns": [
        {
         "name": "index",
         "rawType": "int64",
         "type": "integer"
        },
        {
         "name": "order_id",
         "rawType": "object",
         "type": "string"
        },
        {
         "name": "customer_id",
         "rawType": "object",
         "type": "string"
        },
        {
         "name": "order_status",
         "rawType": "object",
         "type": "string"
        },
        {
         "name": "order_purchase_timestamp",
         "rawType": "object",
         "type": "string"
        },
        {
         "name": "order_approved_at",
         "rawType": "object",
         "type": "string"
        },
        {
         "name": "order_delivered_carrier_date",
         "rawType": "object",
         "type": "string"
        },
        {
         "name": "order_delivered_customer_date",
         "rawType": "object",
         "type": "string"
        },
        {
         "name": "order_estimated_delivery_date",
         "rawType": "object",
         "type": "string"
        }
       ],
       "conversionMethod": "pd.DataFrame",
       "ref": "9a1467b1-4ab1-48e1-bf84-cff637b7407f",
       "rows": [
        [
         "0",
         "e481f51cbdc54678b7cc49136f2d6af7",
         "9ef432eb6251297304e76186b10a928d",
         "delivered",
         "2017-10-02 10:56:33",
         "2017-10-02 11:07:15",
         "2017-10-04 19:55:00",
         "2017-10-10 21:25:13",
         "2017-10-18 00:00:00"
        ],
        [
         "1",
         "53cdb2fc8bc7dce0b6741e2150273451",
         "b0830fb4747a6c6d20dea0b8c802d7ef",
         "delivered",
         "2018-07-24 20:41:37",
         "2018-07-26 03:24:27",
         "2018-07-26 14:31:00",
         "2018-08-07 15:27:45",
         "2018-08-13 00:00:00"
        ],
        [
         "2",
         "47770eb9100c2d0c44946d9cf07ec65d",
         "41ce2a54c0b03bf3443c3d931a367089",
         "delivered",
         "2018-08-08 08:38:49",
         "2018-08-08 08:55:23",
         "2018-08-08 13:50:00",
         "2018-08-17 18:06:29",
         "2018-09-04 00:00:00"
        ],
        [
         "3",
         "949d5b44dbf5de918fe9c16f97b45f8a",
         "f88197465ea7920adcdbec7375364d82",
         "delivered",
         "2017-11-18 19:28:06",
         "2017-11-18 19:45:59",
         "2017-11-22 13:39:59",
         "2017-12-02 00:28:42",
         "2017-12-15 00:00:00"
        ],
        [
         "4",
         "ad21c59c0840e6cb83a9ceb5573f8159",
         "8ab97904e6daea8866dbdbc4fb7aad2c",
         "delivered",
         "2018-02-13 21:18:39",
         "2018-02-13 22:20:29",
         "2018-02-14 19:46:34",
         "2018-02-16 18:17:02",
         "2018-02-26 00:00:00"
        ]
       ],
       "shape": {
        "columns": 8,
        "rows": 5
       }
      },
      "text/html": [
       "<div>\n",
       "<style scoped>\n",
       "    .dataframe tbody tr th:only-of-type {\n",
       "        vertical-align: middle;\n",
       "    }\n",
       "\n",
       "    .dataframe tbody tr th {\n",
       "        vertical-align: top;\n",
       "    }\n",
       "\n",
       "    .dataframe thead th {\n",
       "        text-align: right;\n",
       "    }\n",
       "</style>\n",
       "<table border=\"1\" class=\"dataframe\">\n",
       "  <thead>\n",
       "    <tr style=\"text-align: right;\">\n",
       "      <th></th>\n",
       "      <th>order_id</th>\n",
       "      <th>customer_id</th>\n",
       "      <th>order_status</th>\n",
       "      <th>order_purchase_timestamp</th>\n",
       "      <th>order_approved_at</th>\n",
       "      <th>order_delivered_carrier_date</th>\n",
       "      <th>order_delivered_customer_date</th>\n",
       "      <th>order_estimated_delivery_date</th>\n",
       "    </tr>\n",
       "  </thead>\n",
       "  <tbody>\n",
       "    <tr>\n",
       "      <th>0</th>\n",
       "      <td>e481f51cbdc54678b7cc49136f2d6af7</td>\n",
       "      <td>9ef432eb6251297304e76186b10a928d</td>\n",
       "      <td>delivered</td>\n",
       "      <td>2017-10-02 10:56:33</td>\n",
       "      <td>2017-10-02 11:07:15</td>\n",
       "      <td>2017-10-04 19:55:00</td>\n",
       "      <td>2017-10-10 21:25:13</td>\n",
       "      <td>2017-10-18 00:00:00</td>\n",
       "    </tr>\n",
       "    <tr>\n",
       "      <th>1</th>\n",
       "      <td>53cdb2fc8bc7dce0b6741e2150273451</td>\n",
       "      <td>b0830fb4747a6c6d20dea0b8c802d7ef</td>\n",
       "      <td>delivered</td>\n",
       "      <td>2018-07-24 20:41:37</td>\n",
       "      <td>2018-07-26 03:24:27</td>\n",
       "      <td>2018-07-26 14:31:00</td>\n",
       "      <td>2018-08-07 15:27:45</td>\n",
       "      <td>2018-08-13 00:00:00</td>\n",
       "    </tr>\n",
       "    <tr>\n",
       "      <th>2</th>\n",
       "      <td>47770eb9100c2d0c44946d9cf07ec65d</td>\n",
       "      <td>41ce2a54c0b03bf3443c3d931a367089</td>\n",
       "      <td>delivered</td>\n",
       "      <td>2018-08-08 08:38:49</td>\n",
       "      <td>2018-08-08 08:55:23</td>\n",
       "      <td>2018-08-08 13:50:00</td>\n",
       "      <td>2018-08-17 18:06:29</td>\n",
       "      <td>2018-09-04 00:00:00</td>\n",
       "    </tr>\n",
       "    <tr>\n",
       "      <th>3</th>\n",
       "      <td>949d5b44dbf5de918fe9c16f97b45f8a</td>\n",
       "      <td>f88197465ea7920adcdbec7375364d82</td>\n",
       "      <td>delivered</td>\n",
       "      <td>2017-11-18 19:28:06</td>\n",
       "      <td>2017-11-18 19:45:59</td>\n",
       "      <td>2017-11-22 13:39:59</td>\n",
       "      <td>2017-12-02 00:28:42</td>\n",
       "      <td>2017-12-15 00:00:00</td>\n",
       "    </tr>\n",
       "    <tr>\n",
       "      <th>4</th>\n",
       "      <td>ad21c59c0840e6cb83a9ceb5573f8159</td>\n",
       "      <td>8ab97904e6daea8866dbdbc4fb7aad2c</td>\n",
       "      <td>delivered</td>\n",
       "      <td>2018-02-13 21:18:39</td>\n",
       "      <td>2018-02-13 22:20:29</td>\n",
       "      <td>2018-02-14 19:46:34</td>\n",
       "      <td>2018-02-16 18:17:02</td>\n",
       "      <td>2018-02-26 00:00:00</td>\n",
       "    </tr>\n",
       "  </tbody>\n",
       "</table>\n",
       "</div>"
      ],
      "text/plain": [
       "                           order_id                       customer_id  \\\n",
       "0  e481f51cbdc54678b7cc49136f2d6af7  9ef432eb6251297304e76186b10a928d   \n",
       "1  53cdb2fc8bc7dce0b6741e2150273451  b0830fb4747a6c6d20dea0b8c802d7ef   \n",
       "2  47770eb9100c2d0c44946d9cf07ec65d  41ce2a54c0b03bf3443c3d931a367089   \n",
       "3  949d5b44dbf5de918fe9c16f97b45f8a  f88197465ea7920adcdbec7375364d82   \n",
       "4  ad21c59c0840e6cb83a9ceb5573f8159  8ab97904e6daea8866dbdbc4fb7aad2c   \n",
       "\n",
       "  order_status order_purchase_timestamp    order_approved_at  \\\n",
       "0    delivered      2017-10-02 10:56:33  2017-10-02 11:07:15   \n",
       "1    delivered      2018-07-24 20:41:37  2018-07-26 03:24:27   \n",
       "2    delivered      2018-08-08 08:38:49  2018-08-08 08:55:23   \n",
       "3    delivered      2017-11-18 19:28:06  2017-11-18 19:45:59   \n",
       "4    delivered      2018-02-13 21:18:39  2018-02-13 22:20:29   \n",
       "\n",
       "  order_delivered_carrier_date order_delivered_customer_date  \\\n",
       "0          2017-10-04 19:55:00           2017-10-10 21:25:13   \n",
       "1          2018-07-26 14:31:00           2018-08-07 15:27:45   \n",
       "2          2018-08-08 13:50:00           2018-08-17 18:06:29   \n",
       "3          2017-11-22 13:39:59           2017-12-02 00:28:42   \n",
       "4          2018-02-14 19:46:34           2018-02-16 18:17:02   \n",
       "\n",
       "  order_estimated_delivery_date  \n",
       "0           2017-10-18 00:00:00  \n",
       "1           2018-08-13 00:00:00  \n",
       "2           2018-09-04 00:00:00  \n",
       "3           2017-12-15 00:00:00  \n",
       "4           2018-02-26 00:00:00  "
      ]
     },
     "metadata": {},
     "output_type": "display_data"
    },
    {
     "name": "stdout",
     "output_type": "stream",
     "text": [
      "\n",
      "\n",
      "Dataset: order_items_dataset (112650, 7)\n"
     ]
    },
    {
     "data": {
      "application/vnd.microsoft.datawrangler.viewer.v0+json": {
       "columns": [
        {
         "name": "index",
         "rawType": "int64",
         "type": "integer"
        },
        {
         "name": "order_id",
         "rawType": "object",
         "type": "string"
        },
        {
         "name": "order_item_id",
         "rawType": "int64",
         "type": "integer"
        },
        {
         "name": "product_id",
         "rawType": "object",
         "type": "string"
        },
        {
         "name": "seller_id",
         "rawType": "object",
         "type": "string"
        },
        {
         "name": "shipping_limit_date",
         "rawType": "object",
         "type": "string"
        },
        {
         "name": "price",
         "rawType": "float64",
         "type": "float"
        },
        {
         "name": "freight_value",
         "rawType": "float64",
         "type": "float"
        }
       ],
       "conversionMethod": "pd.DataFrame",
       "ref": "3a6f9934-d541-4b76-9741-c21c8b39351a",
       "rows": [
        [
         "0",
         "00010242fe8c5a6d1ba2dd792cb16214",
         "1",
         "4244733e06e7ecb4970a6e2683c13e61",
         "48436dade18ac8b2bce089ec2a041202",
         "2017-09-19 09:45:35",
         "58.9",
         "13.29"
        ],
        [
         "1",
         "00018f77f2f0320c557190d7a144bdd3",
         "1",
         "e5f2d52b802189ee658865ca93d83a8f",
         "dd7ddc04e1b6c2c614352b383efe2d36",
         "2017-05-03 11:05:13",
         "239.9",
         "19.93"
        ],
        [
         "2",
         "000229ec398224ef6ca0657da4fc703e",
         "1",
         "c777355d18b72b67abbeef9df44fd0fd",
         "5b51032eddd242adc84c38acab88f23d",
         "2018-01-18 14:48:30",
         "199.0",
         "17.87"
        ],
        [
         "3",
         "00024acbcdf0a6daa1e931b038114c75",
         "1",
         "7634da152a4610f1595efa32f14722fc",
         "9d7a1d34a5052409006425275ba1c2b4",
         "2018-08-15 10:10:18",
         "12.99",
         "12.79"
        ],
        [
         "4",
         "00042b26cf59d7ce69dfabb4e55b4fd9",
         "1",
         "ac6c3623068f30de03045865e4e10089",
         "df560393f3a51e74553ab94004ba5c87",
         "2017-02-13 13:57:51",
         "199.9",
         "18.14"
        ]
       ],
       "shape": {
        "columns": 7,
        "rows": 5
       }
      },
      "text/html": [
       "<div>\n",
       "<style scoped>\n",
       "    .dataframe tbody tr th:only-of-type {\n",
       "        vertical-align: middle;\n",
       "    }\n",
       "\n",
       "    .dataframe tbody tr th {\n",
       "        vertical-align: top;\n",
       "    }\n",
       "\n",
       "    .dataframe thead th {\n",
       "        text-align: right;\n",
       "    }\n",
       "</style>\n",
       "<table border=\"1\" class=\"dataframe\">\n",
       "  <thead>\n",
       "    <tr style=\"text-align: right;\">\n",
       "      <th></th>\n",
       "      <th>order_id</th>\n",
       "      <th>order_item_id</th>\n",
       "      <th>product_id</th>\n",
       "      <th>seller_id</th>\n",
       "      <th>shipping_limit_date</th>\n",
       "      <th>price</th>\n",
       "      <th>freight_value</th>\n",
       "    </tr>\n",
       "  </thead>\n",
       "  <tbody>\n",
       "    <tr>\n",
       "      <th>0</th>\n",
       "      <td>00010242fe8c5a6d1ba2dd792cb16214</td>\n",
       "      <td>1</td>\n",
       "      <td>4244733e06e7ecb4970a6e2683c13e61</td>\n",
       "      <td>48436dade18ac8b2bce089ec2a041202</td>\n",
       "      <td>2017-09-19 09:45:35</td>\n",
       "      <td>58.90</td>\n",
       "      <td>13.29</td>\n",
       "    </tr>\n",
       "    <tr>\n",
       "      <th>1</th>\n",
       "      <td>00018f77f2f0320c557190d7a144bdd3</td>\n",
       "      <td>1</td>\n",
       "      <td>e5f2d52b802189ee658865ca93d83a8f</td>\n",
       "      <td>dd7ddc04e1b6c2c614352b383efe2d36</td>\n",
       "      <td>2017-05-03 11:05:13</td>\n",
       "      <td>239.90</td>\n",
       "      <td>19.93</td>\n",
       "    </tr>\n",
       "    <tr>\n",
       "      <th>2</th>\n",
       "      <td>000229ec398224ef6ca0657da4fc703e</td>\n",
       "      <td>1</td>\n",
       "      <td>c777355d18b72b67abbeef9df44fd0fd</td>\n",
       "      <td>5b51032eddd242adc84c38acab88f23d</td>\n",
       "      <td>2018-01-18 14:48:30</td>\n",
       "      <td>199.00</td>\n",
       "      <td>17.87</td>\n",
       "    </tr>\n",
       "    <tr>\n",
       "      <th>3</th>\n",
       "      <td>00024acbcdf0a6daa1e931b038114c75</td>\n",
       "      <td>1</td>\n",
       "      <td>7634da152a4610f1595efa32f14722fc</td>\n",
       "      <td>9d7a1d34a5052409006425275ba1c2b4</td>\n",
       "      <td>2018-08-15 10:10:18</td>\n",
       "      <td>12.99</td>\n",
       "      <td>12.79</td>\n",
       "    </tr>\n",
       "    <tr>\n",
       "      <th>4</th>\n",
       "      <td>00042b26cf59d7ce69dfabb4e55b4fd9</td>\n",
       "      <td>1</td>\n",
       "      <td>ac6c3623068f30de03045865e4e10089</td>\n",
       "      <td>df560393f3a51e74553ab94004ba5c87</td>\n",
       "      <td>2017-02-13 13:57:51</td>\n",
       "      <td>199.90</td>\n",
       "      <td>18.14</td>\n",
       "    </tr>\n",
       "  </tbody>\n",
       "</table>\n",
       "</div>"
      ],
      "text/plain": [
       "                           order_id  order_item_id  \\\n",
       "0  00010242fe8c5a6d1ba2dd792cb16214              1   \n",
       "1  00018f77f2f0320c557190d7a144bdd3              1   \n",
       "2  000229ec398224ef6ca0657da4fc703e              1   \n",
       "3  00024acbcdf0a6daa1e931b038114c75              1   \n",
       "4  00042b26cf59d7ce69dfabb4e55b4fd9              1   \n",
       "\n",
       "                         product_id                         seller_id  \\\n",
       "0  4244733e06e7ecb4970a6e2683c13e61  48436dade18ac8b2bce089ec2a041202   \n",
       "1  e5f2d52b802189ee658865ca93d83a8f  dd7ddc04e1b6c2c614352b383efe2d36   \n",
       "2  c777355d18b72b67abbeef9df44fd0fd  5b51032eddd242adc84c38acab88f23d   \n",
       "3  7634da152a4610f1595efa32f14722fc  9d7a1d34a5052409006425275ba1c2b4   \n",
       "4  ac6c3623068f30de03045865e4e10089  df560393f3a51e74553ab94004ba5c87   \n",
       "\n",
       "   shipping_limit_date   price  freight_value  \n",
       "0  2017-09-19 09:45:35   58.90          13.29  \n",
       "1  2017-05-03 11:05:13  239.90          19.93  \n",
       "2  2018-01-18 14:48:30  199.00          17.87  \n",
       "3  2018-08-15 10:10:18   12.99          12.79  \n",
       "4  2017-02-13 13:57:51  199.90          18.14  "
      ]
     },
     "metadata": {},
     "output_type": "display_data"
    },
    {
     "name": "stdout",
     "output_type": "stream",
     "text": [
      "\n",
      "\n",
      "Dataset: order_payments_dataset (103886, 5)\n"
     ]
    },
    {
     "data": {
      "application/vnd.microsoft.datawrangler.viewer.v0+json": {
       "columns": [
        {
         "name": "index",
         "rawType": "int64",
         "type": "integer"
        },
        {
         "name": "order_id",
         "rawType": "object",
         "type": "string"
        },
        {
         "name": "payment_sequential",
         "rawType": "int64",
         "type": "integer"
        },
        {
         "name": "payment_type",
         "rawType": "object",
         "type": "string"
        },
        {
         "name": "payment_installments",
         "rawType": "int64",
         "type": "integer"
        },
        {
         "name": "payment_value",
         "rawType": "float64",
         "type": "float"
        }
       ],
       "conversionMethod": "pd.DataFrame",
       "ref": "ba6cc8f5-8d2c-4f66-9417-c7cfd43552d4",
       "rows": [
        [
         "0",
         "b81ef226f3fe1789b1e8b2acac839d17",
         "1",
         "credit_card",
         "8",
         "99.33"
        ],
        [
         "1",
         "a9810da82917af2d9aefd1278f1dcfa0",
         "1",
         "credit_card",
         "1",
         "24.39"
        ],
        [
         "2",
         "25e8ea4e93396b6fa0d3dd708e76c1bd",
         "1",
         "credit_card",
         "1",
         "65.71"
        ],
        [
         "3",
         "ba78997921bbcdc1373bb41e913ab953",
         "1",
         "credit_card",
         "8",
         "107.78"
        ],
        [
         "4",
         "42fdf880ba16b47b59251dd489d4441a",
         "1",
         "credit_card",
         "2",
         "128.45"
        ]
       ],
       "shape": {
        "columns": 5,
        "rows": 5
       }
      },
      "text/html": [
       "<div>\n",
       "<style scoped>\n",
       "    .dataframe tbody tr th:only-of-type {\n",
       "        vertical-align: middle;\n",
       "    }\n",
       "\n",
       "    .dataframe tbody tr th {\n",
       "        vertical-align: top;\n",
       "    }\n",
       "\n",
       "    .dataframe thead th {\n",
       "        text-align: right;\n",
       "    }\n",
       "</style>\n",
       "<table border=\"1\" class=\"dataframe\">\n",
       "  <thead>\n",
       "    <tr style=\"text-align: right;\">\n",
       "      <th></th>\n",
       "      <th>order_id</th>\n",
       "      <th>payment_sequential</th>\n",
       "      <th>payment_type</th>\n",
       "      <th>payment_installments</th>\n",
       "      <th>payment_value</th>\n",
       "    </tr>\n",
       "  </thead>\n",
       "  <tbody>\n",
       "    <tr>\n",
       "      <th>0</th>\n",
       "      <td>b81ef226f3fe1789b1e8b2acac839d17</td>\n",
       "      <td>1</td>\n",
       "      <td>credit_card</td>\n",
       "      <td>8</td>\n",
       "      <td>99.33</td>\n",
       "    </tr>\n",
       "    <tr>\n",
       "      <th>1</th>\n",
       "      <td>a9810da82917af2d9aefd1278f1dcfa0</td>\n",
       "      <td>1</td>\n",
       "      <td>credit_card</td>\n",
       "      <td>1</td>\n",
       "      <td>24.39</td>\n",
       "    </tr>\n",
       "    <tr>\n",
       "      <th>2</th>\n",
       "      <td>25e8ea4e93396b6fa0d3dd708e76c1bd</td>\n",
       "      <td>1</td>\n",
       "      <td>credit_card</td>\n",
       "      <td>1</td>\n",
       "      <td>65.71</td>\n",
       "    </tr>\n",
       "    <tr>\n",
       "      <th>3</th>\n",
       "      <td>ba78997921bbcdc1373bb41e913ab953</td>\n",
       "      <td>1</td>\n",
       "      <td>credit_card</td>\n",
       "      <td>8</td>\n",
       "      <td>107.78</td>\n",
       "    </tr>\n",
       "    <tr>\n",
       "      <th>4</th>\n",
       "      <td>42fdf880ba16b47b59251dd489d4441a</td>\n",
       "      <td>1</td>\n",
       "      <td>credit_card</td>\n",
       "      <td>2</td>\n",
       "      <td>128.45</td>\n",
       "    </tr>\n",
       "  </tbody>\n",
       "</table>\n",
       "</div>"
      ],
      "text/plain": [
       "                           order_id  payment_sequential payment_type  \\\n",
       "0  b81ef226f3fe1789b1e8b2acac839d17                   1  credit_card   \n",
       "1  a9810da82917af2d9aefd1278f1dcfa0                   1  credit_card   \n",
       "2  25e8ea4e93396b6fa0d3dd708e76c1bd                   1  credit_card   \n",
       "3  ba78997921bbcdc1373bb41e913ab953                   1  credit_card   \n",
       "4  42fdf880ba16b47b59251dd489d4441a                   1  credit_card   \n",
       "\n",
       "   payment_installments  payment_value  \n",
       "0                     8          99.33  \n",
       "1                     1          24.39  \n",
       "2                     1          65.71  \n",
       "3                     8         107.78  \n",
       "4                     2         128.45  "
      ]
     },
     "metadata": {},
     "output_type": "display_data"
    },
    {
     "name": "stdout",
     "output_type": "stream",
     "text": [
      "\n",
      "\n",
      "Dataset: order_reviews_dataset (99224, 7)\n"
     ]
    },
    {
     "data": {
      "application/vnd.microsoft.datawrangler.viewer.v0+json": {
       "columns": [
        {
         "name": "index",
         "rawType": "int64",
         "type": "integer"
        },
        {
         "name": "review_id",
         "rawType": "object",
         "type": "string"
        },
        {
         "name": "order_id",
         "rawType": "object",
         "type": "string"
        },
        {
         "name": "review_score",
         "rawType": "int64",
         "type": "integer"
        },
        {
         "name": "review_comment_title",
         "rawType": "object",
         "type": "unknown"
        },
        {
         "name": "review_comment_message",
         "rawType": "object",
         "type": "unknown"
        },
        {
         "name": "review_creation_date",
         "rawType": "object",
         "type": "string"
        },
        {
         "name": "review_answer_timestamp",
         "rawType": "object",
         "type": "string"
        }
       ],
       "conversionMethod": "pd.DataFrame",
       "ref": "5aa01873-fae7-47ec-a18a-18d8db7ade33",
       "rows": [
        [
         "0",
         "7bc2406110b926393aa56f80a40eba40",
         "73fc7af87114b39712e6da79b0a377eb",
         "4",
         null,
         null,
         "2018-01-18 00:00:00",
         "2018-01-18 21:46:59"
        ],
        [
         "1",
         "80e641a11e56f04c1ad469d5645fdfde",
         "a548910a1c6147796b98fdf73dbeba33",
         "5",
         null,
         null,
         "2018-03-10 00:00:00",
         "2018-03-11 03:05:13"
        ],
        [
         "2",
         "228ce5500dc1d8e020d8d1322874b6f0",
         "f9e4b658b201a9f2ecdecbb34bed034b",
         "5",
         null,
         null,
         "2018-02-17 00:00:00",
         "2018-02-18 14:36:24"
        ],
        [
         "3",
         "e64fb393e7b32834bb789ff8bb30750e",
         "658677c97b385a9be170737859d3511b",
         "5",
         null,
         "Recebi bem antes do prazo estipulado.",
         "2017-04-21 00:00:00",
         "2017-04-21 22:02:06"
        ],
        [
         "4",
         "f7c4243c7fe1938f181bec41a392bdeb",
         "8e6bfb81e283fa7e4f11123a3fb894f1",
         "5",
         null,
         "Parabéns lojas lannister adorei comprar pela Internet seguro e prático Parabéns a todos feliz Páscoa",
         "2018-03-01 00:00:00",
         "2018-03-02 10:26:53"
        ]
       ],
       "shape": {
        "columns": 7,
        "rows": 5
       }
      },
      "text/html": [
       "<div>\n",
       "<style scoped>\n",
       "    .dataframe tbody tr th:only-of-type {\n",
       "        vertical-align: middle;\n",
       "    }\n",
       "\n",
       "    .dataframe tbody tr th {\n",
       "        vertical-align: top;\n",
       "    }\n",
       "\n",
       "    .dataframe thead th {\n",
       "        text-align: right;\n",
       "    }\n",
       "</style>\n",
       "<table border=\"1\" class=\"dataframe\">\n",
       "  <thead>\n",
       "    <tr style=\"text-align: right;\">\n",
       "      <th></th>\n",
       "      <th>review_id</th>\n",
       "      <th>order_id</th>\n",
       "      <th>review_score</th>\n",
       "      <th>review_comment_title</th>\n",
       "      <th>review_comment_message</th>\n",
       "      <th>review_creation_date</th>\n",
       "      <th>review_answer_timestamp</th>\n",
       "    </tr>\n",
       "  </thead>\n",
       "  <tbody>\n",
       "    <tr>\n",
       "      <th>0</th>\n",
       "      <td>7bc2406110b926393aa56f80a40eba40</td>\n",
       "      <td>73fc7af87114b39712e6da79b0a377eb</td>\n",
       "      <td>4</td>\n",
       "      <td>NaN</td>\n",
       "      <td>NaN</td>\n",
       "      <td>2018-01-18 00:00:00</td>\n",
       "      <td>2018-01-18 21:46:59</td>\n",
       "    </tr>\n",
       "    <tr>\n",
       "      <th>1</th>\n",
       "      <td>80e641a11e56f04c1ad469d5645fdfde</td>\n",
       "      <td>a548910a1c6147796b98fdf73dbeba33</td>\n",
       "      <td>5</td>\n",
       "      <td>NaN</td>\n",
       "      <td>NaN</td>\n",
       "      <td>2018-03-10 00:00:00</td>\n",
       "      <td>2018-03-11 03:05:13</td>\n",
       "    </tr>\n",
       "    <tr>\n",
       "      <th>2</th>\n",
       "      <td>228ce5500dc1d8e020d8d1322874b6f0</td>\n",
       "      <td>f9e4b658b201a9f2ecdecbb34bed034b</td>\n",
       "      <td>5</td>\n",
       "      <td>NaN</td>\n",
       "      <td>NaN</td>\n",
       "      <td>2018-02-17 00:00:00</td>\n",
       "      <td>2018-02-18 14:36:24</td>\n",
       "    </tr>\n",
       "    <tr>\n",
       "      <th>3</th>\n",
       "      <td>e64fb393e7b32834bb789ff8bb30750e</td>\n",
       "      <td>658677c97b385a9be170737859d3511b</td>\n",
       "      <td>5</td>\n",
       "      <td>NaN</td>\n",
       "      <td>Recebi bem antes do prazo estipulado.</td>\n",
       "      <td>2017-04-21 00:00:00</td>\n",
       "      <td>2017-04-21 22:02:06</td>\n",
       "    </tr>\n",
       "    <tr>\n",
       "      <th>4</th>\n",
       "      <td>f7c4243c7fe1938f181bec41a392bdeb</td>\n",
       "      <td>8e6bfb81e283fa7e4f11123a3fb894f1</td>\n",
       "      <td>5</td>\n",
       "      <td>NaN</td>\n",
       "      <td>Parabéns lojas lannister adorei comprar pela I...</td>\n",
       "      <td>2018-03-01 00:00:00</td>\n",
       "      <td>2018-03-02 10:26:53</td>\n",
       "    </tr>\n",
       "  </tbody>\n",
       "</table>\n",
       "</div>"
      ],
      "text/plain": [
       "                          review_id                          order_id  \\\n",
       "0  7bc2406110b926393aa56f80a40eba40  73fc7af87114b39712e6da79b0a377eb   \n",
       "1  80e641a11e56f04c1ad469d5645fdfde  a548910a1c6147796b98fdf73dbeba33   \n",
       "2  228ce5500dc1d8e020d8d1322874b6f0  f9e4b658b201a9f2ecdecbb34bed034b   \n",
       "3  e64fb393e7b32834bb789ff8bb30750e  658677c97b385a9be170737859d3511b   \n",
       "4  f7c4243c7fe1938f181bec41a392bdeb  8e6bfb81e283fa7e4f11123a3fb894f1   \n",
       "\n",
       "   review_score review_comment_title  \\\n",
       "0             4                  NaN   \n",
       "1             5                  NaN   \n",
       "2             5                  NaN   \n",
       "3             5                  NaN   \n",
       "4             5                  NaN   \n",
       "\n",
       "                              review_comment_message review_creation_date  \\\n",
       "0                                                NaN  2018-01-18 00:00:00   \n",
       "1                                                NaN  2018-03-10 00:00:00   \n",
       "2                                                NaN  2018-02-17 00:00:00   \n",
       "3              Recebi bem antes do prazo estipulado.  2017-04-21 00:00:00   \n",
       "4  Parabéns lojas lannister adorei comprar pela I...  2018-03-01 00:00:00   \n",
       "\n",
       "  review_answer_timestamp  \n",
       "0     2018-01-18 21:46:59  \n",
       "1     2018-03-11 03:05:13  \n",
       "2     2018-02-18 14:36:24  \n",
       "3     2017-04-21 22:02:06  \n",
       "4     2018-03-02 10:26:53  "
      ]
     },
     "metadata": {},
     "output_type": "display_data"
    },
    {
     "name": "stdout",
     "output_type": "stream",
     "text": [
      "\n",
      "\n",
      "Dataset: products_dataset (32951, 9)\n"
     ]
    },
    {
     "data": {
      "application/vnd.microsoft.datawrangler.viewer.v0+json": {
       "columns": [
        {
         "name": "index",
         "rawType": "int64",
         "type": "integer"
        },
        {
         "name": "product_id",
         "rawType": "object",
         "type": "string"
        },
        {
         "name": "product_category_name",
         "rawType": "object",
         "type": "string"
        },
        {
         "name": "product_name_lenght",
         "rawType": "float64",
         "type": "float"
        },
        {
         "name": "product_description_lenght",
         "rawType": "float64",
         "type": "float"
        },
        {
         "name": "product_photos_qty",
         "rawType": "float64",
         "type": "float"
        },
        {
         "name": "product_weight_g",
         "rawType": "float64",
         "type": "float"
        },
        {
         "name": "product_length_cm",
         "rawType": "float64",
         "type": "float"
        },
        {
         "name": "product_height_cm",
         "rawType": "float64",
         "type": "float"
        },
        {
         "name": "product_width_cm",
         "rawType": "float64",
         "type": "float"
        }
       ],
       "conversionMethod": "pd.DataFrame",
       "ref": "34959dcc-6080-41d4-bb96-59f27a13ac79",
       "rows": [
        [
         "0",
         "1e9e8ef04dbcff4541ed26657ea517e5",
         "perfumaria",
         "40.0",
         "287.0",
         "1.0",
         "225.0",
         "16.0",
         "10.0",
         "14.0"
        ],
        [
         "1",
         "3aa071139cb16b67ca9e5dea641aaa2f",
         "artes",
         "44.0",
         "276.0",
         "1.0",
         "1000.0",
         "30.0",
         "18.0",
         "20.0"
        ],
        [
         "2",
         "96bd76ec8810374ed1b65e291975717f",
         "esporte_lazer",
         "46.0",
         "250.0",
         "1.0",
         "154.0",
         "18.0",
         "9.0",
         "15.0"
        ],
        [
         "3",
         "cef67bcfe19066a932b7673e239eb23d",
         "bebes",
         "27.0",
         "261.0",
         "1.0",
         "371.0",
         "26.0",
         "4.0",
         "26.0"
        ],
        [
         "4",
         "9dc1a7de274444849c219cff195d0b71",
         "utilidades_domesticas",
         "37.0",
         "402.0",
         "4.0",
         "625.0",
         "20.0",
         "17.0",
         "13.0"
        ]
       ],
       "shape": {
        "columns": 9,
        "rows": 5
       }
      },
      "text/html": [
       "<div>\n",
       "<style scoped>\n",
       "    .dataframe tbody tr th:only-of-type {\n",
       "        vertical-align: middle;\n",
       "    }\n",
       "\n",
       "    .dataframe tbody tr th {\n",
       "        vertical-align: top;\n",
       "    }\n",
       "\n",
       "    .dataframe thead th {\n",
       "        text-align: right;\n",
       "    }\n",
       "</style>\n",
       "<table border=\"1\" class=\"dataframe\">\n",
       "  <thead>\n",
       "    <tr style=\"text-align: right;\">\n",
       "      <th></th>\n",
       "      <th>product_id</th>\n",
       "      <th>product_category_name</th>\n",
       "      <th>product_name_lenght</th>\n",
       "      <th>product_description_lenght</th>\n",
       "      <th>product_photos_qty</th>\n",
       "      <th>product_weight_g</th>\n",
       "      <th>product_length_cm</th>\n",
       "      <th>product_height_cm</th>\n",
       "      <th>product_width_cm</th>\n",
       "    </tr>\n",
       "  </thead>\n",
       "  <tbody>\n",
       "    <tr>\n",
       "      <th>0</th>\n",
       "      <td>1e9e8ef04dbcff4541ed26657ea517e5</td>\n",
       "      <td>perfumaria</td>\n",
       "      <td>40.0</td>\n",
       "      <td>287.0</td>\n",
       "      <td>1.0</td>\n",
       "      <td>225.0</td>\n",
       "      <td>16.0</td>\n",
       "      <td>10.0</td>\n",
       "      <td>14.0</td>\n",
       "    </tr>\n",
       "    <tr>\n",
       "      <th>1</th>\n",
       "      <td>3aa071139cb16b67ca9e5dea641aaa2f</td>\n",
       "      <td>artes</td>\n",
       "      <td>44.0</td>\n",
       "      <td>276.0</td>\n",
       "      <td>1.0</td>\n",
       "      <td>1000.0</td>\n",
       "      <td>30.0</td>\n",
       "      <td>18.0</td>\n",
       "      <td>20.0</td>\n",
       "    </tr>\n",
       "    <tr>\n",
       "      <th>2</th>\n",
       "      <td>96bd76ec8810374ed1b65e291975717f</td>\n",
       "      <td>esporte_lazer</td>\n",
       "      <td>46.0</td>\n",
       "      <td>250.0</td>\n",
       "      <td>1.0</td>\n",
       "      <td>154.0</td>\n",
       "      <td>18.0</td>\n",
       "      <td>9.0</td>\n",
       "      <td>15.0</td>\n",
       "    </tr>\n",
       "    <tr>\n",
       "      <th>3</th>\n",
       "      <td>cef67bcfe19066a932b7673e239eb23d</td>\n",
       "      <td>bebes</td>\n",
       "      <td>27.0</td>\n",
       "      <td>261.0</td>\n",
       "      <td>1.0</td>\n",
       "      <td>371.0</td>\n",
       "      <td>26.0</td>\n",
       "      <td>4.0</td>\n",
       "      <td>26.0</td>\n",
       "    </tr>\n",
       "    <tr>\n",
       "      <th>4</th>\n",
       "      <td>9dc1a7de274444849c219cff195d0b71</td>\n",
       "      <td>utilidades_domesticas</td>\n",
       "      <td>37.0</td>\n",
       "      <td>402.0</td>\n",
       "      <td>4.0</td>\n",
       "      <td>625.0</td>\n",
       "      <td>20.0</td>\n",
       "      <td>17.0</td>\n",
       "      <td>13.0</td>\n",
       "    </tr>\n",
       "  </tbody>\n",
       "</table>\n",
       "</div>"
      ],
      "text/plain": [
       "                         product_id  product_category_name  \\\n",
       "0  1e9e8ef04dbcff4541ed26657ea517e5             perfumaria   \n",
       "1  3aa071139cb16b67ca9e5dea641aaa2f                  artes   \n",
       "2  96bd76ec8810374ed1b65e291975717f          esporte_lazer   \n",
       "3  cef67bcfe19066a932b7673e239eb23d                  bebes   \n",
       "4  9dc1a7de274444849c219cff195d0b71  utilidades_domesticas   \n",
       "\n",
       "   product_name_lenght  product_description_lenght  product_photos_qty  \\\n",
       "0                 40.0                       287.0                 1.0   \n",
       "1                 44.0                       276.0                 1.0   \n",
       "2                 46.0                       250.0                 1.0   \n",
       "3                 27.0                       261.0                 1.0   \n",
       "4                 37.0                       402.0                 4.0   \n",
       "\n",
       "   product_weight_g  product_length_cm  product_height_cm  product_width_cm  \n",
       "0             225.0               16.0               10.0              14.0  \n",
       "1            1000.0               30.0               18.0              20.0  \n",
       "2             154.0               18.0                9.0              15.0  \n",
       "3             371.0               26.0                4.0              26.0  \n",
       "4             625.0               20.0               17.0              13.0  "
      ]
     },
     "metadata": {},
     "output_type": "display_data"
    },
    {
     "name": "stdout",
     "output_type": "stream",
     "text": [
      "\n",
      "\n",
      "Dataset: product_category_name_translation (71, 2)\n"
     ]
    },
    {
     "data": {
      "application/vnd.microsoft.datawrangler.viewer.v0+json": {
       "columns": [
        {
         "name": "index",
         "rawType": "int64",
         "type": "integer"
        },
        {
         "name": "product_category_name",
         "rawType": "object",
         "type": "string"
        },
        {
         "name": "product_category_name_english",
         "rawType": "object",
         "type": "string"
        }
       ],
       "conversionMethod": "pd.DataFrame",
       "ref": "82a696bf-325a-41ae-9f69-6f295c2c7d5d",
       "rows": [
        [
         "0",
         "beleza_saude",
         "health_beauty"
        ],
        [
         "1",
         "informatica_acessorios",
         "computers_accessories"
        ],
        [
         "2",
         "automotivo",
         "auto"
        ],
        [
         "3",
         "cama_mesa_banho",
         "bed_bath_table"
        ],
        [
         "4",
         "moveis_decoracao",
         "furniture_decor"
        ]
       ],
       "shape": {
        "columns": 2,
        "rows": 5
       }
      },
      "text/html": [
       "<div>\n",
       "<style scoped>\n",
       "    .dataframe tbody tr th:only-of-type {\n",
       "        vertical-align: middle;\n",
       "    }\n",
       "\n",
       "    .dataframe tbody tr th {\n",
       "        vertical-align: top;\n",
       "    }\n",
       "\n",
       "    .dataframe thead th {\n",
       "        text-align: right;\n",
       "    }\n",
       "</style>\n",
       "<table border=\"1\" class=\"dataframe\">\n",
       "  <thead>\n",
       "    <tr style=\"text-align: right;\">\n",
       "      <th></th>\n",
       "      <th>product_category_name</th>\n",
       "      <th>product_category_name_english</th>\n",
       "    </tr>\n",
       "  </thead>\n",
       "  <tbody>\n",
       "    <tr>\n",
       "      <th>0</th>\n",
       "      <td>beleza_saude</td>\n",
       "      <td>health_beauty</td>\n",
       "    </tr>\n",
       "    <tr>\n",
       "      <th>1</th>\n",
       "      <td>informatica_acessorios</td>\n",
       "      <td>computers_accessories</td>\n",
       "    </tr>\n",
       "    <tr>\n",
       "      <th>2</th>\n",
       "      <td>automotivo</td>\n",
       "      <td>auto</td>\n",
       "    </tr>\n",
       "    <tr>\n",
       "      <th>3</th>\n",
       "      <td>cama_mesa_banho</td>\n",
       "      <td>bed_bath_table</td>\n",
       "    </tr>\n",
       "    <tr>\n",
       "      <th>4</th>\n",
       "      <td>moveis_decoracao</td>\n",
       "      <td>furniture_decor</td>\n",
       "    </tr>\n",
       "  </tbody>\n",
       "</table>\n",
       "</div>"
      ],
      "text/plain": [
       "    product_category_name product_category_name_english\n",
       "0            beleza_saude                 health_beauty\n",
       "1  informatica_acessorios         computers_accessories\n",
       "2              automotivo                          auto\n",
       "3         cama_mesa_banho                bed_bath_table\n",
       "4        moveis_decoracao               furniture_decor"
      ]
     },
     "metadata": {},
     "output_type": "display_data"
    },
    {
     "name": "stdout",
     "output_type": "stream",
     "text": [
      "\n",
      "\n",
      "Dataset: sellers_dataset (3095, 4)\n"
     ]
    },
    {
     "data": {
      "application/vnd.microsoft.datawrangler.viewer.v0+json": {
       "columns": [
        {
         "name": "index",
         "rawType": "int64",
         "type": "integer"
        },
        {
         "name": "seller_id",
         "rawType": "object",
         "type": "string"
        },
        {
         "name": "seller_zip_code_prefix",
         "rawType": "int64",
         "type": "integer"
        },
        {
         "name": "seller_city",
         "rawType": "object",
         "type": "string"
        },
        {
         "name": "seller_state",
         "rawType": "object",
         "type": "string"
        }
       ],
       "conversionMethod": "pd.DataFrame",
       "ref": "d8a7ff50-7b2a-4452-a965-aab0ee0865b6",
       "rows": [
        [
         "0",
         "3442f8959a84dea7ee197c632cb2df15",
         "13023",
         "campinas",
         "SP"
        ],
        [
         "1",
         "d1b65fc7debc3361ea86b5f14c68d2e2",
         "13844",
         "mogi guacu",
         "SP"
        ],
        [
         "2",
         "ce3ad9de960102d0677a81f5d0bb7b2d",
         "20031",
         "rio de janeiro",
         "RJ"
        ],
        [
         "3",
         "c0f3eea2e14555b6faeea3dd58c1b1c3",
         "4195",
         "sao paulo",
         "SP"
        ],
        [
         "4",
         "51a04a8a6bdcb23deccc82b0b80742cf",
         "12914",
         "braganca paulista",
         "SP"
        ]
       ],
       "shape": {
        "columns": 4,
        "rows": 5
       }
      },
      "text/html": [
       "<div>\n",
       "<style scoped>\n",
       "    .dataframe tbody tr th:only-of-type {\n",
       "        vertical-align: middle;\n",
       "    }\n",
       "\n",
       "    .dataframe tbody tr th {\n",
       "        vertical-align: top;\n",
       "    }\n",
       "\n",
       "    .dataframe thead th {\n",
       "        text-align: right;\n",
       "    }\n",
       "</style>\n",
       "<table border=\"1\" class=\"dataframe\">\n",
       "  <thead>\n",
       "    <tr style=\"text-align: right;\">\n",
       "      <th></th>\n",
       "      <th>seller_id</th>\n",
       "      <th>seller_zip_code_prefix</th>\n",
       "      <th>seller_city</th>\n",
       "      <th>seller_state</th>\n",
       "    </tr>\n",
       "  </thead>\n",
       "  <tbody>\n",
       "    <tr>\n",
       "      <th>0</th>\n",
       "      <td>3442f8959a84dea7ee197c632cb2df15</td>\n",
       "      <td>13023</td>\n",
       "      <td>campinas</td>\n",
       "      <td>SP</td>\n",
       "    </tr>\n",
       "    <tr>\n",
       "      <th>1</th>\n",
       "      <td>d1b65fc7debc3361ea86b5f14c68d2e2</td>\n",
       "      <td>13844</td>\n",
       "      <td>mogi guacu</td>\n",
       "      <td>SP</td>\n",
       "    </tr>\n",
       "    <tr>\n",
       "      <th>2</th>\n",
       "      <td>ce3ad9de960102d0677a81f5d0bb7b2d</td>\n",
       "      <td>20031</td>\n",
       "      <td>rio de janeiro</td>\n",
       "      <td>RJ</td>\n",
       "    </tr>\n",
       "    <tr>\n",
       "      <th>3</th>\n",
       "      <td>c0f3eea2e14555b6faeea3dd58c1b1c3</td>\n",
       "      <td>4195</td>\n",
       "      <td>sao paulo</td>\n",
       "      <td>SP</td>\n",
       "    </tr>\n",
       "    <tr>\n",
       "      <th>4</th>\n",
       "      <td>51a04a8a6bdcb23deccc82b0b80742cf</td>\n",
       "      <td>12914</td>\n",
       "      <td>braganca paulista</td>\n",
       "      <td>SP</td>\n",
       "    </tr>\n",
       "  </tbody>\n",
       "</table>\n",
       "</div>"
      ],
      "text/plain": [
       "                          seller_id  seller_zip_code_prefix  \\\n",
       "0  3442f8959a84dea7ee197c632cb2df15                   13023   \n",
       "1  d1b65fc7debc3361ea86b5f14c68d2e2                   13844   \n",
       "2  ce3ad9de960102d0677a81f5d0bb7b2d                   20031   \n",
       "3  c0f3eea2e14555b6faeea3dd58c1b1c3                    4195   \n",
       "4  51a04a8a6bdcb23deccc82b0b80742cf                   12914   \n",
       "\n",
       "         seller_city seller_state  \n",
       "0           campinas           SP  \n",
       "1         mogi guacu           SP  \n",
       "2     rio de janeiro           RJ  \n",
       "3          sao paulo           SP  \n",
       "4  braganca paulista           SP  "
      ]
     },
     "metadata": {},
     "output_type": "display_data"
    }
   ],
   "source": [
    "# Menampilkan informasi setiap dataset: nama, ukuran, dan 5 baris pertama\n",
    "for key in df.keys():\n",
    "    print(f\"\\n\\nDataset: {key} {df[key].shape}\")\n",
    "    display(df[key].head())"
   ]
  },
  {
   "cell_type": "code",
   "execution_count": null,
   "metadata": {},
   "outputs": [],
   "source": []
  },
  {
   "cell_type": "markdown",
   "metadata": {},
   "source": [
    "**Insight:**\n",
    "\n",
    "#### 1. Membuat Prediksi (Visual Tren)\n",
    "\n",
    "   Dataset yang relevan:\n",
    "   - `order_payments_dataset` : Menyediakan data nilai pembayaran (`payment_value`) per transaksi.\n",
    "   - `orders_dataset` : Menyediakan tanggal pembelian (`order_purchase_timestamp`) untuk pengelompokan waktu.\n",
    "     \n",
    "#### 2. Menemukan Hubungan\n",
    "\n",
    "   Dataset yang relevan:\n",
    "   - `order_items_dataset` : Menyediakan `price` dan `freight_value` untuk setiap item dalam pesanan."
   ]
  },
  {
   "cell_type": "markdown",
   "metadata": {},
   "source": [
    "### Assessing Data"
   ]
  },
  {
   "cell_type": "markdown",
   "metadata": {},
   "source": [
    "#### 1. Membuat Prediksi (Visual Tren)"
   ]
  },
  {
   "cell_type": "markdown",
   "metadata": {},
   "source": [
    "`order_payments_dataset`"
   ]
  },
  {
   "cell_type": "code",
   "execution_count": 5,
   "metadata": {},
   "outputs": [
    {
     "name": "stdout",
     "output_type": "stream",
     "text": [
      "(103886, 5)\n"
     ]
    },
    {
     "data": {
      "application/vnd.microsoft.datawrangler.viewer.v0+json": {
       "columns": [
        {
         "name": "index",
         "rawType": "int64",
         "type": "integer"
        },
        {
         "name": "order_id",
         "rawType": "object",
         "type": "string"
        },
        {
         "name": "payment_sequential",
         "rawType": "int64",
         "type": "integer"
        },
        {
         "name": "payment_type",
         "rawType": "object",
         "type": "string"
        },
        {
         "name": "payment_installments",
         "rawType": "int64",
         "type": "integer"
        },
        {
         "name": "payment_value",
         "rawType": "float64",
         "type": "float"
        }
       ],
       "conversionMethod": "pd.DataFrame",
       "ref": "bd28dc35-c8ed-4cca-b07c-3e5e9714301d",
       "rows": [
        [
         "0",
         "b81ef226f3fe1789b1e8b2acac839d17",
         "1",
         "credit_card",
         "8",
         "99.33"
        ],
        [
         "1",
         "a9810da82917af2d9aefd1278f1dcfa0",
         "1",
         "credit_card",
         "1",
         "24.39"
        ],
        [
         "2",
         "25e8ea4e93396b6fa0d3dd708e76c1bd",
         "1",
         "credit_card",
         "1",
         "65.71"
        ],
        [
         "3",
         "ba78997921bbcdc1373bb41e913ab953",
         "1",
         "credit_card",
         "8",
         "107.78"
        ],
        [
         "4",
         "42fdf880ba16b47b59251dd489d4441a",
         "1",
         "credit_card",
         "2",
         "128.45"
        ]
       ],
       "shape": {
        "columns": 5,
        "rows": 5
       }
      },
      "text/html": [
       "<div>\n",
       "<style scoped>\n",
       "    .dataframe tbody tr th:only-of-type {\n",
       "        vertical-align: middle;\n",
       "    }\n",
       "\n",
       "    .dataframe tbody tr th {\n",
       "        vertical-align: top;\n",
       "    }\n",
       "\n",
       "    .dataframe thead th {\n",
       "        text-align: right;\n",
       "    }\n",
       "</style>\n",
       "<table border=\"1\" class=\"dataframe\">\n",
       "  <thead>\n",
       "    <tr style=\"text-align: right;\">\n",
       "      <th></th>\n",
       "      <th>order_id</th>\n",
       "      <th>payment_sequential</th>\n",
       "      <th>payment_type</th>\n",
       "      <th>payment_installments</th>\n",
       "      <th>payment_value</th>\n",
       "    </tr>\n",
       "  </thead>\n",
       "  <tbody>\n",
       "    <tr>\n",
       "      <th>0</th>\n",
       "      <td>b81ef226f3fe1789b1e8b2acac839d17</td>\n",
       "      <td>1</td>\n",
       "      <td>credit_card</td>\n",
       "      <td>8</td>\n",
       "      <td>99.33</td>\n",
       "    </tr>\n",
       "    <tr>\n",
       "      <th>1</th>\n",
       "      <td>a9810da82917af2d9aefd1278f1dcfa0</td>\n",
       "      <td>1</td>\n",
       "      <td>credit_card</td>\n",
       "      <td>1</td>\n",
       "      <td>24.39</td>\n",
       "    </tr>\n",
       "    <tr>\n",
       "      <th>2</th>\n",
       "      <td>25e8ea4e93396b6fa0d3dd708e76c1bd</td>\n",
       "      <td>1</td>\n",
       "      <td>credit_card</td>\n",
       "      <td>1</td>\n",
       "      <td>65.71</td>\n",
       "    </tr>\n",
       "    <tr>\n",
       "      <th>3</th>\n",
       "      <td>ba78997921bbcdc1373bb41e913ab953</td>\n",
       "      <td>1</td>\n",
       "      <td>credit_card</td>\n",
       "      <td>8</td>\n",
       "      <td>107.78</td>\n",
       "    </tr>\n",
       "    <tr>\n",
       "      <th>4</th>\n",
       "      <td>42fdf880ba16b47b59251dd489d4441a</td>\n",
       "      <td>1</td>\n",
       "      <td>credit_card</td>\n",
       "      <td>2</td>\n",
       "      <td>128.45</td>\n",
       "    </tr>\n",
       "  </tbody>\n",
       "</table>\n",
       "</div>"
      ],
      "text/plain": [
       "                           order_id  payment_sequential payment_type  \\\n",
       "0  b81ef226f3fe1789b1e8b2acac839d17                   1  credit_card   \n",
       "1  a9810da82917af2d9aefd1278f1dcfa0                   1  credit_card   \n",
       "2  25e8ea4e93396b6fa0d3dd708e76c1bd                   1  credit_card   \n",
       "3  ba78997921bbcdc1373bb41e913ab953                   1  credit_card   \n",
       "4  42fdf880ba16b47b59251dd489d4441a                   1  credit_card   \n",
       "\n",
       "   payment_installments  payment_value  \n",
       "0                     8          99.33  \n",
       "1                     1          24.39  \n",
       "2                     1          65.71  \n",
       "3                     8         107.78  \n",
       "4                     2         128.45  "
      ]
     },
     "execution_count": 5,
     "metadata": {},
     "output_type": "execute_result"
    }
   ],
   "source": [
    "# Memilih dataset 'order_payments_dataset' untuk dianalisis\n",
    "order_payments_dataset = df['order_payments_dataset']\n",
    "\n",
    "# Menampilkan bentuk (jumlah baris dan kolom) dari dataset yang dipilih\n",
    "print(order_payments_dataset.shape)\n",
    "\n",
    "# Menampilkan 5 baris pertama dari dataset\n",
    "order_payments_dataset.head()"
   ]
  },
  {
   "cell_type": "code",
   "execution_count": 6,
   "metadata": {},
   "outputs": [
    {
     "name": "stdout",
     "output_type": "stream",
     "text": [
      "99440\n"
     ]
    }
   ],
   "source": [
    "# Mengecek jumlah order_id yang unik\n",
    "print(order_payments_dataset['order_id'].nunique())"
   ]
  },
  {
   "cell_type": "code",
   "execution_count": 7,
   "metadata": {},
   "outputs": [
    {
     "name": "stdout",
     "output_type": "stream",
     "text": [
      "<class 'pandas.core.frame.DataFrame'>\n",
      "RangeIndex: 103886 entries, 0 to 103885\n",
      "Data columns (total 5 columns):\n",
      " #   Column                Non-Null Count   Dtype  \n",
      "---  ------                --------------   -----  \n",
      " 0   order_id              103886 non-null  object \n",
      " 1   payment_sequential    103886 non-null  int64  \n",
      " 2   payment_type          103886 non-null  object \n",
      " 3   payment_installments  103886 non-null  int64  \n",
      " 4   payment_value         103886 non-null  float64\n",
      "dtypes: float64(1), int64(2), object(2)\n",
      "memory usage: 4.0+ MB\n"
     ]
    }
   ],
   "source": [
    "# Menampilkan informasi umum mengenai dataset (tipe data, non-null count)\n",
    "order_payments_dataset.info()"
   ]
  },
  {
   "cell_type": "code",
   "execution_count": 8,
   "metadata": {},
   "outputs": [
    {
     "name": "stdout",
     "output_type": "stream",
     "text": [
      "Jumlah data duplikat: 0\n"
     ]
    }
   ],
   "source": [
    "# Mengecek jumlah duplikasi pada seluruh baris\n",
    "print(f\"Jumlah data duplikat: {order_payments_dataset.duplicated().sum()}\")"
   ]
  },
  {
   "cell_type": "code",
   "execution_count": 9,
   "metadata": {},
   "outputs": [
    {
     "data": {
      "application/vnd.microsoft.datawrangler.viewer.v0+json": {
       "columns": [
        {
         "name": "index",
         "rawType": "object",
         "type": "string"
        },
        {
         "name": "jumlah",
         "rawType": "int64",
         "type": "integer"
        },
        {
         "name": "persentase (%)",
         "rawType": "float64",
         "type": "float"
        }
       ],
       "conversionMethod": "pd.DataFrame",
       "ref": "6dada3a7-b59a-4e33-a5da-43e695bd4dc5",
       "rows": [
        [
         "order_id",
         "0",
         "0.0"
        ],
        [
         "payment_sequential",
         "0",
         "0.0"
        ],
        [
         "payment_type",
         "0",
         "0.0"
        ],
        [
         "payment_installments",
         "0",
         "0.0"
        ],
        [
         "payment_value",
         "0",
         "0.0"
        ]
       ],
       "shape": {
        "columns": 2,
        "rows": 5
       }
      },
      "text/html": [
       "<div>\n",
       "<style scoped>\n",
       "    .dataframe tbody tr th:only-of-type {\n",
       "        vertical-align: middle;\n",
       "    }\n",
       "\n",
       "    .dataframe tbody tr th {\n",
       "        vertical-align: top;\n",
       "    }\n",
       "\n",
       "    .dataframe thead th {\n",
       "        text-align: right;\n",
       "    }\n",
       "</style>\n",
       "<table border=\"1\" class=\"dataframe\">\n",
       "  <thead>\n",
       "    <tr style=\"text-align: right;\">\n",
       "      <th></th>\n",
       "      <th>jumlah</th>\n",
       "      <th>persentase (%)</th>\n",
       "    </tr>\n",
       "  </thead>\n",
       "  <tbody>\n",
       "    <tr>\n",
       "      <th>order_id</th>\n",
       "      <td>0</td>\n",
       "      <td>0.0</td>\n",
       "    </tr>\n",
       "    <tr>\n",
       "      <th>payment_sequential</th>\n",
       "      <td>0</td>\n",
       "      <td>0.0</td>\n",
       "    </tr>\n",
       "    <tr>\n",
       "      <th>payment_type</th>\n",
       "      <td>0</td>\n",
       "      <td>0.0</td>\n",
       "    </tr>\n",
       "    <tr>\n",
       "      <th>payment_installments</th>\n",
       "      <td>0</td>\n",
       "      <td>0.0</td>\n",
       "    </tr>\n",
       "    <tr>\n",
       "      <th>payment_value</th>\n",
       "      <td>0</td>\n",
       "      <td>0.0</td>\n",
       "    </tr>\n",
       "  </tbody>\n",
       "</table>\n",
       "</div>"
      ],
      "text/plain": [
       "                      jumlah  persentase (%)\n",
       "order_id                   0             0.0\n",
       "payment_sequential         0             0.0\n",
       "payment_type               0             0.0\n",
       "payment_installments       0             0.0\n",
       "payment_value              0             0.0"
      ]
     },
     "execution_count": 9,
     "metadata": {},
     "output_type": "execute_result"
    }
   ],
   "source": [
    "# Mengecek nilai yang hilang di dataset\n",
    "check_missing_values(order_payments_dataset)"
   ]
  },
  {
   "cell_type": "code",
   "execution_count": 10,
   "metadata": {},
   "outputs": [
    {
     "name": "stdout",
     "output_type": "stream",
     "text": [
      "\n",
      "Outliers (IQR):\n",
      "payment_value => 7981\n",
      "\n",
      "Outliers (Z-Score):\n",
      "payment_value => 1803\n"
     ]
    },
    {
     "data": {
      "image/png": "[encoded data removed]",
      "text/plain": [
       "<Figure size 600x500 with 1 Axes>"
      ]
     },
     "metadata": {},
     "output_type": "display_data"
    }
   ],
   "source": [
    "# Menentukan kolom yang akan diperiksa outlier-nya\n",
    "col_to_check = ['payment_value']\n",
    "\n",
    "# Membuat objek outlier checker\n",
    "outlier_checker = OutlierDetector(order_payments_dataset, selected_columns=col_to_check)\n",
    "\n",
    "# Menampilkan jumlah outlier berdasarkan metode IQR\n",
    "print(\"\\nOutliers (IQR):\")\n",
    "for col in col_to_check:\n",
    "    print(f'{col} => {outlier_checker.detect_iqr()[col].shape[0]}')\n",
    "\n",
    "# Menampilkan jumlah outlier berdasarkan metode Z-Score\n",
    "print(\"\\nOutliers (Z-Score):\")\n",
    "for col in col_to_check:\n",
    "    print(f'{col} => {outlier_checker.detect_zscore()[col].shape[0]}')\n",
    "\n",
    "# Membuat boxplot untuk memvisualisasikan outlier\n",
    "outlier_checker.plot_boxplot()"
   ]
  },
  {
   "cell_type": "markdown",
   "metadata": {},
   "source": [
    "`orders_dataset`"
   ]
  },
  {
   "cell_type": "code",
   "execution_count": 11,
   "metadata": {},
   "outputs": [
    {
     "name": "stdout",
     "output_type": "stream",
     "text": [
      "(99441, 8)\n"
     ]
    },
    {
     "data": {
      "application/vnd.microsoft.datawrangler.viewer.v0+json": {
       "columns": [
        {
         "name": "index",
         "rawType": "int64",
         "type": "integer"
        },
        {
         "name": "order_id",
         "rawType": "object",
         "type": "string"
        },
        {
         "name": "customer_id",
         "rawType": "object",
         "type": "string"
        },
        {
         "name": "order_status",
         "rawType": "object",
         "type": "string"
        },
        {
         "name": "order_purchase_timestamp",
         "rawType": "object",
         "type": "string"
        },
        {
         "name": "order_approved_at",
         "rawType": "object",
         "type": "string"
        },
        {
         "name": "order_delivered_carrier_date",
         "rawType": "object",
         "type": "string"
        },
        {
         "name": "order_delivered_customer_date",
         "rawType": "object",
         "type": "string"
        },
        {
         "name": "order_estimated_delivery_date",
         "rawType": "object",
         "type": "string"
        }
       ],
       "conversionMethod": "pd.DataFrame",
       "ref": "41285e8f-5130-44de-95f6-cfbea23b4701",
       "rows": [
        [
         "0",
         "e481f51cbdc54678b7cc49136f2d6af7",
         "9ef432eb6251297304e76186b10a928d",
         "delivered",
         "2017-10-02 10:56:33",
         "2017-10-02 11:07:15",
         "2017-10-04 19:55:00",
         "2017-10-10 21:25:13",
         "2017-10-18 00:00:00"
        ],
        [
         "1",
         "53cdb2fc8bc7dce0b6741e2150273451",
         "b0830fb4747a6c6d20dea0b8c802d7ef",
         "delivered",
         "2018-07-24 20:41:37",
         "2018-07-26 03:24:27",
         "2018-07-26 14:31:00",
         "2018-08-07 15:27:45",
         "2018-08-13 00:00:00"
        ],
        [
         "2",
         "47770eb9100c2d0c44946d9cf07ec65d",
         "41ce2a54c0b03bf3443c3d931a367089",
         "delivered",
         "2018-08-08 08:38:49",
         "2018-08-08 08:55:23",
         "2018-08-08 13:50:00",
         "2018-08-17 18:06:29",
         "2018-09-04 00:00:00"
        ],
        [
         "3",
         "949d5b44dbf5de918fe9c16f97b45f8a",
         "f88197465ea7920adcdbec7375364d82",
         "delivered",
         "2017-11-18 19:28:06",
         "2017-11-18 19:45:59",
         "2017-11-22 13:39:59",
         "2017-12-02 00:28:42",
         "2017-12-15 00:00:00"
        ],
        [
         "4",
         "ad21c59c0840e6cb83a9ceb5573f8159",
         "8ab97904e6daea8866dbdbc4fb7aad2c",
         "delivered",
         "2018-02-13 21:18:39",
         "2018-02-13 22:20:29",
         "2018-02-14 19:46:34",
         "2018-02-16 18:17:02",
         "2018-02-26 00:00:00"
        ]
       ],
       "shape": {
        "columns": 8,
        "rows": 5
       }
      },
      "text/html": [
       "<div>\n",
       "<style scoped>\n",
       "    .dataframe tbody tr th:only-of-type {\n",
       "        vertical-align: middle;\n",
       "    }\n",
       "\n",
       "    .dataframe tbody tr th {\n",
       "        vertical-align: top;\n",
       "    }\n",
       "\n",
       "    .dataframe thead th {\n",
       "        text-align: right;\n",
       "    }\n",
       "</style>\n",
       "<table border=\"1\" class=\"dataframe\">\n",
       "  <thead>\n",
       "    <tr style=\"text-align: right;\">\n",
       "      <th></th>\n",
       "      <th>order_id</th>\n",
       "      <th>customer_id</th>\n",
       "      <th>order_status</th>\n",
       "      <th>order_purchase_timestamp</th>\n",
       "      <th>order_approved_at</th>\n",
       "      <th>order_delivered_carrier_date</th>\n",
       "      <th>order_delivered_customer_date</th>\n",
       "      <th>order_estimated_delivery_date</th>\n",
       "    </tr>\n",
       "  </thead>\n",
       "  <tbody>\n",
       "    <tr>\n",
       "      <th>0</th>\n",
       "      <td>e481f51cbdc54678b7cc49136f2d6af7</td>\n",
       "      <td>9ef432eb6251297304e76186b10a928d</td>\n",
       "      <td>delivered</td>\n",
       "      <td>2017-10-02 10:56:33</td>\n",
       "      <td>2017-10-02 11:07:15</td>\n",
       "      <td>2017-10-04 19:55:00</td>\n",
       "      <td>2017-10-10 21:25:13</td>\n",
       "      <td>2017-10-18 00:00:00</td>\n",
       "    </tr>\n",
       "    <tr>\n",
       "      <th>1</th>\n",
       "      <td>53cdb2fc8bc7dce0b6741e2150273451</td>\n",
       "      <td>b0830fb4747a6c6d20dea0b8c802d7ef</td>\n",
       "      <td>delivered</td>\n",
       "      <td>2018-07-24 20:41:37</td>\n",
       "      <td>2018-07-26 03:24:27</td>\n",
       "      <td>2018-07-26 14:31:00</td>\n",
       "      <td>2018-08-07 15:27:45</td>\n",
       "      <td>2018-08-13 00:00:00</td>\n",
       "    </tr>\n",
       "    <tr>\n",
       "      <th>2</th>\n",
       "      <td>47770eb9100c2d0c44946d9cf07ec65d</td>\n",
       "      <td>41ce2a54c0b03bf3443c3d931a367089</td>\n",
       "      <td>delivered</td>\n",
       "      <td>2018-08-08 08:38:49</td>\n",
       "      <td>2018-08-08 08:55:23</td>\n",
       "      <td>2018-08-08 13:50:00</td>\n",
       "      <td>2018-08-17 18:06:29</td>\n",
       "      <td>2018-09-04 00:00:00</td>\n",
       "    </tr>\n",
       "    <tr>\n",
       "      <th>3</th>\n",
       "      <td>949d5b44dbf5de918fe9c16f97b45f8a</td>\n",
       "      <td>f88197465ea7920adcdbec7375364d82</td>\n",
       "      <td>delivered</td>\n",
       "      <td>2017-11-18 19:28:06</td>\n",
       "      <td>2017-11-18 19:45:59</td>\n",
       "      <td>2017-11-22 13:39:59</td>\n",
       "      <td>2017-12-02 00:28:42</td>\n",
       "      <td>2017-12-15 00:00:00</td>\n",
       "    </tr>\n",
       "    <tr>\n",
       "      <th>4</th>\n",
       "      <td>ad21c59c0840e6cb83a9ceb5573f8159</td>\n",
       "      <td>8ab97904e6daea8866dbdbc4fb7aad2c</td>\n",
       "      <td>delivered</td>\n",
       "      <td>2018-02-13 21:18:39</td>\n",
       "      <td>2018-02-13 22:20:29</td>\n",
       "      <td>2018-02-14 19:46:34</td>\n",
       "      <td>2018-02-16 18:17:02</td>\n",
       "      <td>2018-02-26 00:00:00</td>\n",
       "    </tr>\n",
       "  </tbody>\n",
       "</table>\n",
       "</div>"
      ],
      "text/plain": [
       "                           order_id                       customer_id  \\\n",
       "0  e481f51cbdc54678b7cc49136f2d6af7  9ef432eb6251297304e76186b10a928d   \n",
       "1  53cdb2fc8bc7dce0b6741e2150273451  b0830fb4747a6c6d20dea0b8c802d7ef   \n",
       "2  47770eb9100c2d0c44946d9cf07ec65d  41ce2a54c0b03bf3443c3d931a367089   \n",
       "3  949d5b44dbf5de918fe9c16f97b45f8a  f88197465ea7920adcdbec7375364d82   \n",
       "4  ad21c59c0840e6cb83a9ceb5573f8159  8ab97904e6daea8866dbdbc4fb7aad2c   \n",
       "\n",
       "  order_status order_purchase_timestamp    order_approved_at  \\\n",
       "0    delivered      2017-10-02 10:56:33  2017-10-02 11:07:15   \n",
       "1    delivered      2018-07-24 20:41:37  2018-07-26 03:24:27   \n",
       "2    delivered      2018-08-08 08:38:49  2018-08-08 08:55:23   \n",
       "3    delivered      2017-11-18 19:28:06  2017-11-18 19:45:59   \n",
       "4    delivered      2018-02-13 21:18:39  2018-02-13 22:20:29   \n",
       "\n",
       "  order_delivered_carrier_date order_delivered_customer_date  \\\n",
       "0          2017-10-04 19:55:00           2017-10-10 21:25:13   \n",
       "1          2018-07-26 14:31:00           2018-08-07 15:27:45   \n",
       "2          2018-08-08 13:50:00           2018-08-17 18:06:29   \n",
       "3          2017-11-22 13:39:59           2017-12-02 00:28:42   \n",
       "4          2018-02-14 19:46:34           2018-02-16 18:17:02   \n",
       "\n",
       "  order_estimated_delivery_date  \n",
       "0           2017-10-18 00:00:00  \n",
       "1           2018-08-13 00:00:00  \n",
       "2           2018-09-04 00:00:00  \n",
       "3           2017-12-15 00:00:00  \n",
       "4           2018-02-26 00:00:00  "
      ]
     },
     "execution_count": 11,
     "metadata": {},
     "output_type": "execute_result"
    }
   ],
   "source": [
    "# Memilih dataset 'orders_dataset' untuk dianalisis\n",
    "orders_dataset = df['orders_dataset']\n",
    "\n",
    "# Menampilkan bentuk (jumlah baris dan kolom) dari dataset\n",
    "print(orders_dataset.shape)\n",
    "\n",
    "# Menampilkan 5 baris pertama dari dataset\n",
    "orders_dataset.head()"
   ]
  },
  {
   "cell_type": "code",
   "execution_count": 12,
   "metadata": {},
   "outputs": [
    {
     "name": "stdout",
     "output_type": "stream",
     "text": [
      "<class 'pandas.core.frame.DataFrame'>\n",
      "RangeIndex: 99441 entries, 0 to 99440\n",
      "Data columns (total 8 columns):\n",
      " #   Column                         Non-Null Count  Dtype \n",
      "---  ------                         --------------  ----- \n",
      " 0   order_id                       99441 non-null  object\n",
      " 1   customer_id                    99441 non-null  object\n",
      " 2   order_status                   99441 non-null  object\n",
      " 3   order_purchase_timestamp       99441 non-null  object\n",
      " 4   order_approved_at              99281 non-null  object\n",
      " 5   order_delivered_carrier_date   97658 non-null  object\n",
      " 6   order_delivered_customer_date  96476 non-null  object\n",
      " 7   order_estimated_delivery_date  99441 non-null  object\n",
      "dtypes: object(8)\n",
      "memory usage: 6.1+ MB\n"
     ]
    }
   ],
   "source": [
    "# Menampilkan informasi umum mengenai dataset (tipe data, non-null count)\n",
    "orders_dataset.info()"
   ]
  },
  {
   "cell_type": "code",
   "execution_count": 13,
   "metadata": {},
   "outputs": [
    {
     "name": "stdout",
     "output_type": "stream",
     "text": [
      "Jumlah order_id unik: 99441\n"
     ]
    }
   ],
   "source": [
    "# Mengecek jumlah order_id yang unik\n",
    "print(f\"Jumlah order_id unik: {orders_dataset['order_id'].nunique()}\")"
   ]
  },
  {
   "cell_type": "code",
   "execution_count": 14,
   "metadata": {},
   "outputs": [
    {
     "name": "stdout",
     "output_type": "stream",
     "text": [
      "Jumlah data duplikat: 0\n"
     ]
    }
   ],
   "source": [
    "# Mengecek jumlah duplikasi pada seluruh baris\n",
    "print(f\"Jumlah data duplikat: {orders_dataset.duplicated().sum()}\")"
   ]
  },
  {
   "cell_type": "code",
   "execution_count": 15,
   "metadata": {},
   "outputs": [
    {
     "data": {
      "application/vnd.microsoft.datawrangler.viewer.v0+json": {
       "columns": [
        {
         "name": "index",
         "rawType": "object",
         "type": "string"
        },
        {
         "name": "jumlah",
         "rawType": "int64",
         "type": "integer"
        },
        {
         "name": "persentase (%)",
         "rawType": "float64",
         "type": "float"
        }
       ],
       "conversionMethod": "pd.DataFrame",
       "ref": "eefc4747-9a9b-4804-8306-3618c45da4e2",
       "rows": [
        [
         "order_id",
         "0",
         "0.0"
        ],
        [
         "customer_id",
         "0",
         "0.0"
        ],
        [
         "order_status",
         "0",
         "0.0"
        ],
        [
         "order_purchase_timestamp",
         "0",
         "0.0"
        ],
        [
         "order_approved_at",
         "160",
         "0.16"
        ],
        [
         "order_delivered_carrier_date",
         "1783",
         "1.79"
        ],
        [
         "order_delivered_customer_date",
         "2965",
         "2.98"
        ],
        [
         "order_estimated_delivery_date",
         "0",
         "0.0"
        ]
       ],
       "shape": {
        "columns": 2,
        "rows": 8
       }
      },
      "text/html": [
       "<div>\n",
       "<style scoped>\n",
       "    .dataframe tbody tr th:only-of-type {\n",
       "        vertical-align: middle;\n",
       "    }\n",
       "\n",
       "    .dataframe tbody tr th {\n",
       "        vertical-align: top;\n",
       "    }\n",
       "\n",
       "    .dataframe thead th {\n",
       "        text-align: right;\n",
       "    }\n",
       "</style>\n",
       "<table border=\"1\" class=\"dataframe\">\n",
       "  <thead>\n",
       "    <tr style=\"text-align: right;\">\n",
       "      <th></th>\n",
       "      <th>jumlah</th>\n",
       "      <th>persentase (%)</th>\n",
       "    </tr>\n",
       "  </thead>\n",
       "  <tbody>\n",
       "    <tr>\n",
       "      <th>order_id</th>\n",
       "      <td>0</td>\n",
       "      <td>0.00</td>\n",
       "    </tr>\n",
       "    <tr>\n",
       "      <th>customer_id</th>\n",
       "      <td>0</td>\n",
       "      <td>0.00</td>\n",
       "    </tr>\n",
       "    <tr>\n",
       "      <th>order_status</th>\n",
       "      <td>0</td>\n",
       "      <td>0.00</td>\n",
       "    </tr>\n",
       "    <tr>\n",
       "      <th>order_purchase_timestamp</th>\n",
       "      <td>0</td>\n",
       "      <td>0.00</td>\n",
       "    </tr>\n",
       "    <tr>\n",
       "      <th>order_approved_at</th>\n",
       "      <td>160</td>\n",
       "      <td>0.16</td>\n",
       "    </tr>\n",
       "    <tr>\n",
       "      <th>order_delivered_carrier_date</th>\n",
       "      <td>1783</td>\n",
       "      <td>1.79</td>\n",
       "    </tr>\n",
       "    <tr>\n",
       "      <th>order_delivered_customer_date</th>\n",
       "      <td>2965</td>\n",
       "      <td>2.98</td>\n",
       "    </tr>\n",
       "    <tr>\n",
       "      <th>order_estimated_delivery_date</th>\n",
       "      <td>0</td>\n",
       "      <td>0.00</td>\n",
       "    </tr>\n",
       "  </tbody>\n",
       "</table>\n",
       "</div>"
      ],
      "text/plain": [
       "                               jumlah  persentase (%)\n",
       "order_id                            0            0.00\n",
       "customer_id                         0            0.00\n",
       "order_status                        0            0.00\n",
       "order_purchase_timestamp            0            0.00\n",
       "order_approved_at                 160            0.16\n",
       "order_delivered_carrier_date     1783            1.79\n",
       "order_delivered_customer_date    2965            2.98\n",
       "order_estimated_delivery_date       0            0.00"
      ]
     },
     "execution_count": 15,
     "metadata": {},
     "output_type": "execute_result"
    }
   ],
   "source": [
    "# Mengecek nilai yang hilang di dataset\n",
    "check_missing_values(orders_dataset)"
   ]
  },
  {
   "cell_type": "markdown",
   "metadata": {},
   "source": [
    "#### 2. Menemukan Hubungan"
   ]
  },
  {
   "cell_type": "markdown",
   "metadata": {},
   "source": [
    "`order_items_dataset`"
   ]
  },
  {
   "cell_type": "code",
   "execution_count": 16,
   "metadata": {},
   "outputs": [
    {
     "name": "stdout",
     "output_type": "stream",
     "text": [
      "(112650, 7)\n"
     ]
    },
    {
     "data": {
      "application/vnd.microsoft.datawrangler.viewer.v0+json": {
       "columns": [
        {
         "name": "index",
         "rawType": "int64",
         "type": "integer"
        },
        {
         "name": "order_id",
         "rawType": "object",
         "type": "string"
        },
        {
         "name": "order_item_id",
         "rawType": "int64",
         "type": "integer"
        },
        {
         "name": "product_id",
         "rawType": "object",
         "type": "string"
        },
        {
         "name": "seller_id",
         "rawType": "object",
         "type": "string"
        },
        {
         "name": "shipping_limit_date",
         "rawType": "object",
         "type": "string"
        },
        {
         "name": "price",
         "rawType": "float64",
         "type": "float"
        },
        {
         "name": "freight_value",
         "rawType": "float64",
         "type": "float"
        }
       ],
       "conversionMethod": "pd.DataFrame",
       "ref": "f6b916a1-33eb-4ad9-b7ba-5a5c4052a2aa",
       "rows": [
        [
         "0",
         "00010242fe8c5a6d1ba2dd792cb16214",
         "1",
         "4244733e06e7ecb4970a6e2683c13e61",
         "48436dade18ac8b2bce089ec2a041202",
         "2017-09-19 09:45:35",
         "58.9",
         "13.29"
        ],
        [
         "1",
         "00018f77f2f0320c557190d7a144bdd3",
         "1",
         "e5f2d52b802189ee658865ca93d83a8f",
         "dd7ddc04e1b6c2c614352b383efe2d36",
         "2017-05-03 11:05:13",
         "239.9",
         "19.93"
        ],
        [
         "2",
         "000229ec398224ef6ca0657da4fc703e",
         "1",
         "c777355d18b72b67abbeef9df44fd0fd",
         "5b51032eddd242adc84c38acab88f23d",
         "2018-01-18 14:48:30",
         "199.0",
         "17.87"
        ],
        [
         "3",
         "00024acbcdf0a6daa1e931b038114c75",
         "1",
         "7634da152a4610f1595efa32f14722fc",
         "9d7a1d34a5052409006425275ba1c2b4",
         "2018-08-15 10:10:18",
         "12.99",
         "12.79"
        ],
        [
         "4",
         "00042b26cf59d7ce69dfabb4e55b4fd9",
         "1",
         "ac6c3623068f30de03045865e4e10089",
         "df560393f3a51e74553ab94004ba5c87",
         "2017-02-13 13:57:51",
         "199.9",
         "18.14"
        ]
       ],
       "shape": {
        "columns": 7,
        "rows": 5
       }
      },
      "text/html": [
       "<div>\n",
       "<style scoped>\n",
       "    .dataframe tbody tr th:only-of-type {\n",
       "        vertical-align: middle;\n",
       "    }\n",
       "\n",
       "    .dataframe tbody tr th {\n",
       "        vertical-align: top;\n",
       "    }\n",
       "\n",
       "    .dataframe thead th {\n",
       "        text-align: right;\n",
       "    }\n",
       "</style>\n",
       "<table border=\"1\" class=\"dataframe\">\n",
       "  <thead>\n",
       "    <tr style=\"text-align: right;\">\n",
       "      <th></th>\n",
       "      <th>order_id</th>\n",
       "      <th>order_item_id</th>\n",
       "      <th>product_id</th>\n",
       "      <th>seller_id</th>\n",
       "      <th>shipping_limit_date</th>\n",
       "      <th>price</th>\n",
       "      <th>freight_value</th>\n",
       "    </tr>\n",
       "  </thead>\n",
       "  <tbody>\n",
       "    <tr>\n",
       "      <th>0</th>\n",
       "      <td>00010242fe8c5a6d1ba2dd792cb16214</td>\n",
       "      <td>1</td>\n",
       "      <td>4244733e06e7ecb4970a6e2683c13e61</td>\n",
       "      <td>48436dade18ac8b2bce089ec2a041202</td>\n",
       "      <td>2017-09-19 09:45:35</td>\n",
       "      <td>58.90</td>\n",
       "      <td>13.29</td>\n",
       "    </tr>\n",
       "    <tr>\n",
       "      <th>1</th>\n",
       "      <td>00018f77f2f0320c557190d7a144bdd3</td>\n",
       "      <td>1</td>\n",
       "      <td>e5f2d52b802189ee658865ca93d83a8f</td>\n",
       "      <td>dd7ddc04e1b6c2c614352b383efe2d36</td>\n",
       "      <td>2017-05-03 11:05:13</td>\n",
       "      <td>239.90</td>\n",
       "      <td>19.93</td>\n",
       "    </tr>\n",
       "    <tr>\n",
       "      <th>2</th>\n",
       "      <td>000229ec398224ef6ca0657da4fc703e</td>\n",
       "      <td>1</td>\n",
       "      <td>c777355d18b72b67abbeef9df44fd0fd</td>\n",
       "      <td>5b51032eddd242adc84c38acab88f23d</td>\n",
       "      <td>2018-01-18 14:48:30</td>\n",
       "      <td>199.00</td>\n",
       "      <td>17.87</td>\n",
       "    </tr>\n",
       "    <tr>\n",
       "      <th>3</th>\n",
       "      <td>00024acbcdf0a6daa1e931b038114c75</td>\n",
       "      <td>1</td>\n",
       "      <td>7634da152a4610f1595efa32f14722fc</td>\n",
       "      <td>9d7a1d34a5052409006425275ba1c2b4</td>\n",
       "      <td>2018-08-15 10:10:18</td>\n",
       "      <td>12.99</td>\n",
       "      <td>12.79</td>\n",
       "    </tr>\n",
       "    <tr>\n",
       "      <th>4</th>\n",
       "      <td>00042b26cf59d7ce69dfabb4e55b4fd9</td>\n",
       "      <td>1</td>\n",
       "      <td>ac6c3623068f30de03045865e4e10089</td>\n",
       "      <td>df560393f3a51e74553ab94004ba5c87</td>\n",
       "      <td>2017-02-13 13:57:51</td>\n",
       "      <td>199.90</td>\n",
       "      <td>18.14</td>\n",
       "    </tr>\n",
       "  </tbody>\n",
       "</table>\n",
       "</div>"
      ],
      "text/plain": [
       "                           order_id  order_item_id  \\\n",
       "0  00010242fe8c5a6d1ba2dd792cb16214              1   \n",
       "1  00018f77f2f0320c557190d7a144bdd3              1   \n",
       "2  000229ec398224ef6ca0657da4fc703e              1   \n",
       "3  00024acbcdf0a6daa1e931b038114c75              1   \n",
       "4  00042b26cf59d7ce69dfabb4e55b4fd9              1   \n",
       "\n",
       "                         product_id                         seller_id  \\\n",
       "0  4244733e06e7ecb4970a6e2683c13e61  48436dade18ac8b2bce089ec2a041202   \n",
       "1  e5f2d52b802189ee658865ca93d83a8f  dd7ddc04e1b6c2c614352b383efe2d36   \n",
       "2  c777355d18b72b67abbeef9df44fd0fd  5b51032eddd242adc84c38acab88f23d   \n",
       "3  7634da152a4610f1595efa32f14722fc  9d7a1d34a5052409006425275ba1c2b4   \n",
       "4  ac6c3623068f30de03045865e4e10089  df560393f3a51e74553ab94004ba5c87   \n",
       "\n",
       "   shipping_limit_date   price  freight_value  \n",
       "0  2017-09-19 09:45:35   58.90          13.29  \n",
       "1  2017-05-03 11:05:13  239.90          19.93  \n",
       "2  2018-01-18 14:48:30  199.00          17.87  \n",
       "3  2018-08-15 10:10:18   12.99          12.79  \n",
       "4  2017-02-13 13:57:51  199.90          18.14  "
      ]
     },
     "execution_count": 16,
     "metadata": {},
     "output_type": "execute_result"
    }
   ],
   "source": [
    "# Memilih dataset 'order_items_dataset' untuk dianalisis\n",
    "order_items_dataset = df['order_items_dataset']\n",
    "\n",
    "# Menampilkan bentuk (jumlah baris dan kolom) dari dataset\n",
    "print(order_items_dataset.shape)\n",
    "\n",
    "# Menampilkan 5 baris pertama dari dataset\n",
    "order_items_dataset.head()"
   ]
  },
  {
   "cell_type": "code",
   "execution_count": 17,
   "metadata": {},
   "outputs": [
    {
     "name": "stdout",
     "output_type": "stream",
     "text": [
      "<class 'pandas.core.frame.DataFrame'>\n",
      "RangeIndex: 112650 entries, 0 to 112649\n",
      "Data columns (total 7 columns):\n",
      " #   Column               Non-Null Count   Dtype  \n",
      "---  ------               --------------   -----  \n",
      " 0   order_id             112650 non-null  object \n",
      " 1   order_item_id        112650 non-null  int64  \n",
      " 2   product_id           112650 non-null  object \n",
      " 3   seller_id            112650 non-null  object \n",
      " 4   shipping_limit_date  112650 non-null  object \n",
      " 5   price                112650 non-null  float64\n",
      " 6   freight_value        112650 non-null  float64\n",
      "dtypes: float64(2), int64(1), object(4)\n",
      "memory usage: 6.0+ MB\n"
     ]
    }
   ],
   "source": [
    "# Menampilkan informasi umum mengenai dataset (tipe data, non-null count)\n",
    "order_items_dataset.info()"
   ]
  },
  {
   "cell_type": "code",
   "execution_count": 18,
   "metadata": {},
   "outputs": [
    {
     "name": "stdout",
     "output_type": "stream",
     "text": [
      "Jumlah data duplikat: 0\n"
     ]
    }
   ],
   "source": [
    "# Mengecek jumlah duplikasi pada seluruh baris\n",
    "print(f\"Jumlah data duplikat: {order_items_dataset.duplicated().sum()}\")"
   ]
  },
  {
   "cell_type": "code",
   "execution_count": 19,
   "metadata": {},
   "outputs": [
    {
     "data": {
      "application/vnd.microsoft.datawrangler.viewer.v0+json": {
       "columns": [
        {
         "name": "index",
         "rawType": "object",
         "type": "string"
        },
        {
         "name": "jumlah",
         "rawType": "int64",
         "type": "integer"
        },
        {
         "name": "persentase (%)",
         "rawType": "float64",
         "type": "float"
        }
       ],
       "conversionMethod": "pd.DataFrame",
       "ref": "dea7cdf9-2745-45e2-a26a-6d2339208c9e",
       "rows": [
        [
         "order_id",
         "0",
         "0.0"
        ],
        [
         "order_item_id",
         "0",
         "0.0"
        ],
        [
         "product_id",
         "0",
         "0.0"
        ],
        [
         "seller_id",
         "0",
         "0.0"
        ],
        [
         "shipping_limit_date",
         "0",
         "0.0"
        ],
        [
         "price",
         "0",
         "0.0"
        ],
        [
         "freight_value",
         "0",
         "0.0"
        ]
       ],
       "shape": {
        "columns": 2,
        "rows": 7
       }
      },
      "text/html": [
       "<div>\n",
       "<style scoped>\n",
       "    .dataframe tbody tr th:only-of-type {\n",
       "        vertical-align: middle;\n",
       "    }\n",
       "\n",
       "    .dataframe tbody tr th {\n",
       "        vertical-align: top;\n",
       "    }\n",
       "\n",
       "    .dataframe thead th {\n",
       "        text-align: right;\n",
       "    }\n",
       "</style>\n",
       "<table border=\"1\" class=\"dataframe\">\n",
       "  <thead>\n",
       "    <tr style=\"text-align: right;\">\n",
       "      <th></th>\n",
       "      <th>jumlah</th>\n",
       "      <th>persentase (%)</th>\n",
       "    </tr>\n",
       "  </thead>\n",
       "  <tbody>\n",
       "    <tr>\n",
       "      <th>order_id</th>\n",
       "      <td>0</td>\n",
       "      <td>0.0</td>\n",
       "    </tr>\n",
       "    <tr>\n",
       "      <th>order_item_id</th>\n",
       "      <td>0</td>\n",
       "      <td>0.0</td>\n",
       "    </tr>\n",
       "    <tr>\n",
       "      <th>product_id</th>\n",
       "      <td>0</td>\n",
       "      <td>0.0</td>\n",
       "    </tr>\n",
       "    <tr>\n",
       "      <th>seller_id</th>\n",
       "      <td>0</td>\n",
       "      <td>0.0</td>\n",
       "    </tr>\n",
       "    <tr>\n",
       "      <th>shipping_limit_date</th>\n",
       "      <td>0</td>\n",
       "      <td>0.0</td>\n",
       "    </tr>\n",
       "    <tr>\n",
       "      <th>price</th>\n",
       "      <td>0</td>\n",
       "      <td>0.0</td>\n",
       "    </tr>\n",
       "    <tr>\n",
       "      <th>freight_value</th>\n",
       "      <td>0</td>\n",
       "      <td>0.0</td>\n",
       "    </tr>\n",
       "  </tbody>\n",
       "</table>\n",
       "</div>"
      ],
      "text/plain": [
       "                     jumlah  persentase (%)\n",
       "order_id                  0             0.0\n",
       "order_item_id             0             0.0\n",
       "product_id                0             0.0\n",
       "seller_id                 0             0.0\n",
       "shipping_limit_date       0             0.0\n",
       "price                     0             0.0\n",
       "freight_value             0             0.0"
      ]
     },
     "execution_count": 19,
     "metadata": {},
     "output_type": "execute_result"
    }
   ],
   "source": [
    "# Mengecek nilai yang hilang di dataset\n",
    "check_missing_values(order_items_dataset)"
   ]
  },
  {
   "cell_type": "code",
   "execution_count": 20,
   "metadata": {},
   "outputs": [
    {
     "name": "stdout",
     "output_type": "stream",
     "text": [
      "\n",
      "Outliers (IQR):\n",
      "price => 8427\n",
      "freight_value => 12134\n",
      "\n",
      "Outliers (Z-Score):\n",
      "price => 1966\n",
      "freight_value => 2041\n"
     ]
    },
    {
     "data": {
      "image/png": "[encoded data removed]",
      "text/plain": [
       "<Figure size 1200x500 with 2 Axes>"
      ]
     },
     "metadata": {},
     "output_type": "display_data"
    }
   ],
   "source": [
    "# Menentukan kolom yang akan diperiksa outlier-nya\n",
    "col_to_check = ['price', 'freight_value']\n",
    "\n",
    "# Membuat objek outlier checker\n",
    "outlier_checker = OutlierDetector(order_items_dataset, selected_columns=col_to_check)\n",
    "\n",
    "# Menampilkan jumlah outlier berdasarkan metode IQR\n",
    "print(\"\\nOutliers (IQR):\")\n",
    "for col in col_to_check:\n",
    "    print(f'{col} => {outlier_checker.detect_iqr()[col].shape[0]}')\n",
    "\n",
    "# Menampilkan jumlah outlier berdasarkan metode Z-Score\n",
    "print(\"\\nOutliers (Z-Score):\")\n",
    "for col in col_to_check:\n",
    "    print(f'{col} => {outlier_checker.detect_zscore()[col].shape[0]}')\n",
    "\n",
    "# Membuat boxplot untuk memvisualisasikan outlier\n",
    "outlier_checker.plot_boxplot()"
   ]
  },
  {
   "cell_type": "markdown",
   "metadata": {},
   "source": [
    "**Insight:**\n",
    "\n",
    "1. Menggabungkan dataset `order_payments_dataset` (`payment_value`) dengan `orders_dataset` (`order_purchase_timestamp`) berdasarkan `order_id`\n",
    "2. Terdapat 1 kali pembelian yang tidak ada di `order_payment`\n",
    "3. Tipe data dari `order_purchase_timestamp` belum sesuai (masih dalam object) dan harus diubah ke dalam datetime.\n",
    "4. Tidak ada missing value dari data (variabel) yang akan digunakan"
   ]
  },
  {
   "cell_type": "markdown",
   "metadata": {},
   "source": [
    "### Cleaning Data"
   ]
  },
  {
   "cell_type": "code",
   "execution_count": 21,
   "metadata": {},
   "outputs": [],
   "source": [
    "# Menggabungkan data order_payments_dataset dan orders_dataset berdasarkan 'order_id'\n",
    "payments_df = pd.merge(\n",
    "    order_payments_dataset[['order_id', 'payment_value']],\n",
    "    orders_dataset[['order_id', 'order_purchase_timestamp']],\n",
    "    on='order_id',\n",
    "    how='inner'  # Menggunakan inner join agar hanya data yang cocok di kedua tabel yang diambil\n",
    ")"
   ]
  },
  {
   "cell_type": "code",
   "execution_count": 22,
   "metadata": {},
   "outputs": [],
   "source": [
    "# Mengubah kolom 'order_purchase_timestamp' menjadi tipe data datetime\n",
    "payments_df['order_purchase_timestamp'] = pd.to_datetime(payments_df['order_purchase_timestamp'])"
   ]
  },
  {
   "cell_type": "markdown",
   "metadata": {},
   "source": [
    "**Insight**\n",
    "\n",
    "Dua dataset tersebut yang digunakan untuk menjawab 2 pertanyaan bisnis di atas."
   ]
  },
  {
   "cell_type": "markdown",
   "metadata": {},
   "source": [
    "## Exploratory Data Analysis (EDA)"
   ]
  },
  {
   "cell_type": "markdown",
   "metadata": {},
   "source": [
    "### Explore"
   ]
  },
  {
   "cell_type": "markdown",
   "metadata": {},
   "source": [
    "### Pertanyaan 1:"
   ]
  },
  {
   "cell_type": "code",
   "execution_count": 23,
   "metadata": {},
   "outputs": [
    {
     "data": {
      "text/html": [
       "<style type=\"text/css\">\n",
       "</style>\n",
       "<table id=\"T_1bcc9\">\n",
       "  <thead>\n",
       "    <tr>\n",
       "      <th class=\"blank level0\" >&nbsp;</th>\n",
       "      <th id=\"T_1bcc9_level0_col0\" class=\"col_heading level0 col0\" >Bulan</th>\n",
       "      <th id=\"T_1bcc9_level0_col1\" class=\"col_heading level0 col1\" >Jumlah Transaksi</th>\n",
       "      <th id=\"T_1bcc9_level0_col2\" class=\"col_heading level0 col2\" >Rata-rata Pembayaran</th>\n",
       "      <th id=\"T_1bcc9_level0_col3\" class=\"col_heading level0 col3\" >Median Pembayaran</th>\n",
       "      <th id=\"T_1bcc9_level0_col4\" class=\"col_heading level0 col4\" >Total Pembayaran</th>\n",
       "    </tr>\n",
       "  </thead>\n",
       "  <tbody>\n",
       "    <tr>\n",
       "      <th id=\"T_1bcc9_level0_row0\" class=\"row_heading level0 row0\" >0</th>\n",
       "      <td id=\"T_1bcc9_row0_col0\" class=\"data row0 col0\" >2017-10</td>\n",
       "      <td id=\"T_1bcc9_row0_col1\" class=\"data row0 col1\" >2,216</td>\n",
       "      <td id=\"T_1bcc9_row0_col2\" class=\"data row0 col2\" >157.72</td>\n",
       "      <td id=\"T_1bcc9_row0_col3\" class=\"data row0 col3\" >100.00</td>\n",
       "      <td id=\"T_1bcc9_row0_col4\" class=\"data row0 col4\" >349,508</td>\n",
       "    </tr>\n",
       "    <tr>\n",
       "      <th id=\"T_1bcc9_level0_row1\" class=\"row_heading level0 row1\" >1</th>\n",
       "      <td id=\"T_1bcc9_row1_col0\" class=\"data row1 col0\" >2017-11</td>\n",
       "      <td id=\"T_1bcc9_row1_col1\" class=\"data row1 col1\" >7,863</td>\n",
       "      <td id=\"T_1bcc9_row1_col2\" class=\"data row1 col2\" >151.96</td>\n",
       "      <td id=\"T_1bcc9_row1_col3\" class=\"data row1 col3\" >98.83</td>\n",
       "      <td id=\"T_1bcc9_row1_col4\" class=\"data row1 col4\" >1,194,883</td>\n",
       "    </tr>\n",
       "    <tr>\n",
       "      <th id=\"T_1bcc9_level0_row2\" class=\"row_heading level0 row2\" >2</th>\n",
       "      <td id=\"T_1bcc9_row2_col0\" class=\"data row2 col0\" >2017-12</td>\n",
       "      <td id=\"T_1bcc9_row2_col1\" class=\"data row2 col1\" >5,895</td>\n",
       "      <td id=\"T_1bcc9_row2_col2\" class=\"data row2 col2\" >149.01</td>\n",
       "      <td id=\"T_1bcc9_row2_col3\" class=\"data row2 col3\" >101.82</td>\n",
       "      <td id=\"T_1bcc9_row2_col4\" class=\"data row2 col4\" >878,401</td>\n",
       "    </tr>\n",
       "    <tr>\n",
       "      <th id=\"T_1bcc9_level0_row3\" class=\"row_heading level0 row3\" >3</th>\n",
       "      <td id=\"T_1bcc9_row3_col0\" class=\"data row3 col0\" >2018-01</td>\n",
       "      <td id=\"T_1bcc9_row3_col1\" class=\"data row3 col1\" >7,563</td>\n",
       "      <td id=\"T_1bcc9_row3_col2\" class=\"data row3 col2\" >147.43</td>\n",
       "      <td id=\"T_1bcc9_row3_col3\" class=\"data row3 col3\" >101.24</td>\n",
       "      <td id=\"T_1bcc9_row3_col4\" class=\"data row3 col4\" >1,115,004</td>\n",
       "    </tr>\n",
       "    <tr>\n",
       "      <th id=\"T_1bcc9_level0_row4\" class=\"row_heading level0 row4\" >4</th>\n",
       "      <td id=\"T_1bcc9_row4_col0\" class=\"data row4 col0\" >2018-02</td>\n",
       "      <td id=\"T_1bcc9_row4_col1\" class=\"data row4 col1\" >6,952</td>\n",
       "      <td id=\"T_1bcc9_row4_col2\" class=\"data row4 col2\" >142.76</td>\n",
       "      <td id=\"T_1bcc9_row4_col3\" class=\"data row4 col3\" >98.23</td>\n",
       "      <td id=\"T_1bcc9_row4_col4\" class=\"data row4 col4\" >992,463</td>\n",
       "    </tr>\n",
       "    <tr>\n",
       "      <th id=\"T_1bcc9_level0_row5\" class=\"row_heading level0 row5\" >5</th>\n",
       "      <td id=\"T_1bcc9_row5_col0\" class=\"data row5 col0\" >2018-03</td>\n",
       "      <td id=\"T_1bcc9_row5_col1\" class=\"data row5 col1\" >7,512</td>\n",
       "      <td id=\"T_1bcc9_row5_col2\" class=\"data row5 col2\" >154.37</td>\n",
       "      <td id=\"T_1bcc9_row5_col3\" class=\"data row5 col3\" >101.99</td>\n",
       "      <td id=\"T_1bcc9_row5_col4\" class=\"data row5 col4\" >1,159,652</td>\n",
       "    </tr>\n",
       "    <tr>\n",
       "      <th id=\"T_1bcc9_level0_row6\" class=\"row_heading level0 row6\" >6</th>\n",
       "      <td id=\"T_1bcc9_row6_col0\" class=\"data row6 col0\" >2018-04</td>\n",
       "      <td id=\"T_1bcc9_row6_col1\" class=\"data row6 col1\" >7,209</td>\n",
       "      <td id=\"T_1bcc9_row6_col2\" class=\"data row6 col2\" >161.02</td>\n",
       "      <td id=\"T_1bcc9_row6_col3\" class=\"data row6 col3\" >104.86</td>\n",
       "      <td id=\"T_1bcc9_row6_col4\" class=\"data row6 col4\" >1,160,785</td>\n",
       "    </tr>\n",
       "    <tr>\n",
       "      <th id=\"T_1bcc9_level0_row7\" class=\"row_heading level0 row7\" >7</th>\n",
       "      <td id=\"T_1bcc9_row7_col0\" class=\"data row7 col0\" >2018-05</td>\n",
       "      <td id=\"T_1bcc9_row7_col1\" class=\"data row7 col1\" >7,135</td>\n",
       "      <td id=\"T_1bcc9_row7_col2\" class=\"data row7 col2\" >161.74</td>\n",
       "      <td id=\"T_1bcc9_row7_col3\" class=\"data row7 col3\" >103.91</td>\n",
       "      <td id=\"T_1bcc9_row7_col4\" class=\"data row7 col4\" >1,153,982</td>\n",
       "    </tr>\n",
       "    <tr>\n",
       "      <th id=\"T_1bcc9_level0_row8\" class=\"row_heading level0 row8\" >8</th>\n",
       "      <td id=\"T_1bcc9_row8_col0\" class=\"data row8 col0\" >2018-06</td>\n",
       "      <td id=\"T_1bcc9_row8_col1\" class=\"data row8 col1\" >6,419</td>\n",
       "      <td id=\"T_1bcc9_row8_col2\" class=\"data row8 col2\" >159.51</td>\n",
       "      <td id=\"T_1bcc9_row8_col3\" class=\"data row8 col3\" >106.50</td>\n",
       "      <td id=\"T_1bcc9_row8_col4\" class=\"data row8 col4\" >1,023,880</td>\n",
       "    </tr>\n",
       "    <tr>\n",
       "      <th id=\"T_1bcc9_level0_row9\" class=\"row_heading level0 row9\" >9</th>\n",
       "      <td id=\"T_1bcc9_row9_col0\" class=\"data row9 col0\" >2018-07</td>\n",
       "      <td id=\"T_1bcc9_row9_col1\" class=\"data row9 col1\" >6,507</td>\n",
       "      <td id=\"T_1bcc9_row9_col2\" class=\"data row9 col2\" >163.91</td>\n",
       "      <td id=\"T_1bcc9_row9_col3\" class=\"data row9 col3\" >103.93</td>\n",
       "      <td id=\"T_1bcc9_row9_col4\" class=\"data row9 col4\" >1,066,541</td>\n",
       "    </tr>\n",
       "    <tr>\n",
       "      <th id=\"T_1bcc9_level0_row10\" class=\"row_heading level0 row10\" >10</th>\n",
       "      <td id=\"T_1bcc9_row10_col0\" class=\"data row10 col0\" >2018-08</td>\n",
       "      <td id=\"T_1bcc9_row10_col1\" class=\"data row10 col1\" >6,698</td>\n",
       "      <td id=\"T_1bcc9_row10_col2\" class=\"data row10 col2\" >152.65</td>\n",
       "      <td id=\"T_1bcc9_row10_col3\" class=\"data row10 col3\" >97.78</td>\n",
       "      <td id=\"T_1bcc9_row10_col4\" class=\"data row10 col4\" >1,022,425</td>\n",
       "    </tr>\n",
       "    <tr>\n",
       "      <th id=\"T_1bcc9_level0_row11\" class=\"row_heading level0 row11\" >11</th>\n",
       "      <td id=\"T_1bcc9_row11_col0\" class=\"data row11 col0\" >2018-09</td>\n",
       "      <td id=\"T_1bcc9_row11_col1\" class=\"data row11 col1\" >16</td>\n",
       "      <td id=\"T_1bcc9_row11_col2\" class=\"data row11 col2\" >277.47</td>\n",
       "      <td id=\"T_1bcc9_row11_col3\" class=\"data row11 col3\" >122.08</td>\n",
       "      <td id=\"T_1bcc9_row11_col4\" class=\"data row11 col4\" >4,440</td>\n",
       "    </tr>\n",
       "    <tr>\n",
       "      <th id=\"T_1bcc9_level0_row12\" class=\"row_heading level0 row12\" >12</th>\n",
       "      <td id=\"T_1bcc9_row12_col0\" class=\"data row12 col0\" >2018-10</td>\n",
       "      <td id=\"T_1bcc9_row12_col1\" class=\"data row12 col1\" >4</td>\n",
       "      <td id=\"T_1bcc9_row12_col2\" class=\"data row12 col2\" >147.42</td>\n",
       "      <td id=\"T_1bcc9_row12_col3\" class=\"data row12 col3\" >143.63</td>\n",
       "      <td id=\"T_1bcc9_row12_col4\" class=\"data row12 col4\" >590</td>\n",
       "    </tr>\n",
       "  </tbody>\n",
       "</table>\n"
      ],
      "text/plain": [
       "<pandas.io.formats.style.Styler at 0x1c0a07e2740>"
      ]
     },
     "metadata": {},
     "output_type": "display_data"
    }
   ],
   "source": [
    "# Menentukan tanggal terbaru dari data\n",
    "latest_date = payments_df['order_purchase_timestamp'].max()\n",
    "\n",
    "# Menentukan tanggal mulai (12 bulan sebelum tanggal terbaru)\n",
    "start_date = latest_date - pd.DateOffset(months=12)\n",
    "\n",
    "# Memfilter data untuk 12 bulan terakhir\n",
    "filtered_df = payments_df[\n",
    "    (payments_df['order_purchase_timestamp'] >= start_date) & \n",
    "    (payments_df['order_purchase_timestamp'] <= latest_date)\n",
    "].copy()\n",
    "\n",
    "# Menambahkan kolom baru 'month_year' dengan format bulan-tahun\n",
    "filtered_df['month_year'] = filtered_df['order_purchase_timestamp'].dt.to_period('M')\n",
    "\n",
    "# Membuat tabel ringkasan per bulan\n",
    "monthly_stats = filtered_df.groupby('month_year')['payment_value'].agg(['count', 'mean', 'median', 'sum']).reset_index()\n",
    "\n",
    "# Memberi nama kolom yang lebih deskriptif\n",
    "monthly_stats.columns = ['Bulan', 'Jumlah Transaksi', 'Rata-rata Pembayaran', 'Median Pembayaran', 'Total Pembayaran']\n",
    "\n",
    "# Mengubah format kolom 'Bulan' menjadi string\n",
    "monthly_stats['Bulan'] = monthly_stats['Bulan'].astype(str)\n",
    "\n",
    "# Menampilkan tabel ringkasan dengan format angka yang lebih rapi\n",
    "display(monthly_stats.style.format({\n",
    "    'Jumlah Transaksi': '{:,}',\n",
    "    'Rata-rata Pembayaran': '{:,.2f}',\n",
    "    'Median Pembayaran': '{:,.2f}',\n",
    "    'Total Pembayaran': '{:,.0f}'\n",
    "}))"
   ]
  },
  {
   "cell_type": "markdown",
   "metadata": {},
   "source": [
    "**Insight:**\n",
    "\n",
    "- **Volume transaksi stabil** dari Okt 2017 hingga Agu 2018 (sekitar 6.000–7.800 transaksi per bulan).\n",
    "- **Rata-rata pembayaran meningkat** dari awal 2018 dan memuncak di Juli 2018 (Rp163.906).\n",
    "- **Median dan rata-rata pembayaran selaras**, menandakan distribusi data yang seimbang.\n",
    "- **September dan Oktober 2018** memiliki transaksi sangat rendah, kemungkinan besar karena **data tidak lengkap atau belum terekam seluruhnya**.\n",
    "- **Puncak total pembayaran** terjadi pada Maret–Mei 2018."
   ]
  },
  {
   "cell_type": "markdown",
   "metadata": {},
   "source": [
    "### Pertanyaan 2:"
   ]
  },
  {
   "cell_type": "code",
   "execution_count": 24,
   "metadata": {},
   "outputs": [
    {
     "data": {
      "application/vnd.microsoft.datawrangler.viewer.v0+json": {
       "columns": [
        {
         "name": "index",
         "rawType": "object",
         "type": "string"
        },
        {
         "name": "price",
         "rawType": "float64",
         "type": "float"
        },
        {
         "name": "freight_value",
         "rawType": "float64",
         "type": "float"
        }
       ],
       "conversionMethod": "pd.DataFrame",
       "ref": "09e0aa09-d5b2-42b1-b2be-67eeda0a198f",
       "rows": [
        [
         "count",
         "112650.0",
         "112650.0"
        ],
        [
         "mean",
         "120.65373901464716",
         "19.990319928983578"
        ],
        [
         "std",
         "183.63392805025939",
         "15.806405412297083"
        ],
        [
         "min",
         "0.85",
         "0.0"
        ],
        [
         "25%",
         "39.9",
         "13.08"
        ],
        [
         "50%",
         "74.99",
         "16.26"
        ],
        [
         "75%",
         "134.9",
         "21.15"
        ],
        [
         "max",
         "6735.0",
         "409.68"
        ]
       ],
       "shape": {
        "columns": 2,
        "rows": 8
       }
      },
      "text/html": [
       "<div>\n",
       "<style scoped>\n",
       "    .dataframe tbody tr th:only-of-type {\n",
       "        vertical-align: middle;\n",
       "    }\n",
       "\n",
       "    .dataframe tbody tr th {\n",
       "        vertical-align: top;\n",
       "    }\n",
       "\n",
       "    .dataframe thead th {\n",
       "        text-align: right;\n",
       "    }\n",
       "</style>\n",
       "<table border=\"1\" class=\"dataframe\">\n",
       "  <thead>\n",
       "    <tr style=\"text-align: right;\">\n",
       "      <th></th>\n",
       "      <th>price</th>\n",
       "      <th>freight_value</th>\n",
       "    </tr>\n",
       "  </thead>\n",
       "  <tbody>\n",
       "    <tr>\n",
       "      <th>count</th>\n",
       "      <td>112650.000000</td>\n",
       "      <td>112650.000000</td>\n",
       "    </tr>\n",
       "    <tr>\n",
       "      <th>mean</th>\n",
       "      <td>120.653739</td>\n",
       "      <td>19.990320</td>\n",
       "    </tr>\n",
       "    <tr>\n",
       "      <th>std</th>\n",
       "      <td>183.633928</td>\n",
       "      <td>15.806405</td>\n",
       "    </tr>\n",
       "    <tr>\n",
       "      <th>min</th>\n",
       "      <td>0.850000</td>\n",
       "      <td>0.000000</td>\n",
       "    </tr>\n",
       "    <tr>\n",
       "      <th>25%</th>\n",
       "      <td>39.900000</td>\n",
       "      <td>13.080000</td>\n",
       "    </tr>\n",
       "    <tr>\n",
       "      <th>50%</th>\n",
       "      <td>74.990000</td>\n",
       "      <td>16.260000</td>\n",
       "    </tr>\n",
       "    <tr>\n",
       "      <th>75%</th>\n",
       "      <td>134.900000</td>\n",
       "      <td>21.150000</td>\n",
       "    </tr>\n",
       "    <tr>\n",
       "      <th>max</th>\n",
       "      <td>6735.000000</td>\n",
       "      <td>409.680000</td>\n",
       "    </tr>\n",
       "  </tbody>\n",
       "</table>\n",
       "</div>"
      ],
      "text/plain": [
       "               price  freight_value\n",
       "count  112650.000000  112650.000000\n",
       "mean      120.653739      19.990320\n",
       "std       183.633928      15.806405\n",
       "min         0.850000       0.000000\n",
       "25%        39.900000      13.080000\n",
       "50%        74.990000      16.260000\n",
       "75%       134.900000      21.150000\n",
       "max      6735.000000     409.680000"
      ]
     },
     "execution_count": 24,
     "metadata": {},
     "output_type": "execute_result"
    }
   ],
   "source": [
    "# Meihat ringkasan statistik dari kolom price dan freight_value:\n",
    "order_items_dataset[['price', 'freight_value']].describe()"
   ]
  },
  {
   "cell_type": "markdown",
   "metadata": {},
   "source": [
    "**Insight:**\n",
    "\n",
    "- Harga rata-rata produk adalah **±120.65**, sedangkan ongkir rata-rata adalah **±19.99**.\n",
    "- Namun, terdapat penyebaran yang sangat besar pada harga (hingga 6.735) dan ongkir (hingga 409.68), yang menunjukkan adanya outlier."
   ]
  },
  {
   "cell_type": "code",
   "execution_count": 25,
   "metadata": {},
   "outputs": [
    {
     "data": {
      "application/vnd.microsoft.datawrangler.viewer.v0+json": {
       "columns": [
        {
         "name": "index",
         "rawType": "object",
         "type": "string"
        },
        {
         "name": "price",
         "rawType": "float64",
         "type": "float"
        },
        {
         "name": "freight_value",
         "rawType": "float64",
         "type": "float"
        }
       ],
       "conversionMethod": "pd.DataFrame",
       "ref": "7cbe97dd-03db-410c-a047-50b26f29471b",
       "rows": [
        [
         "price",
         "1.0",
         "0.41420431036303457"
        ],
        [
         "freight_value",
         "0.41420431036303457",
         "1.0"
        ]
       ],
       "shape": {
        "columns": 2,
        "rows": 2
       }
      },
      "text/html": [
       "<div>\n",
       "<style scoped>\n",
       "    .dataframe tbody tr th:only-of-type {\n",
       "        vertical-align: middle;\n",
       "    }\n",
       "\n",
       "    .dataframe tbody tr th {\n",
       "        vertical-align: top;\n",
       "    }\n",
       "\n",
       "    .dataframe thead th {\n",
       "        text-align: right;\n",
       "    }\n",
       "</style>\n",
       "<table border=\"1\" class=\"dataframe\">\n",
       "  <thead>\n",
       "    <tr style=\"text-align: right;\">\n",
       "      <th></th>\n",
       "      <th>price</th>\n",
       "      <th>freight_value</th>\n",
       "    </tr>\n",
       "  </thead>\n",
       "  <tbody>\n",
       "    <tr>\n",
       "      <th>price</th>\n",
       "      <td>1.000000</td>\n",
       "      <td>0.414204</td>\n",
       "    </tr>\n",
       "    <tr>\n",
       "      <th>freight_value</th>\n",
       "      <td>0.414204</td>\n",
       "      <td>1.000000</td>\n",
       "    </tr>\n",
       "  </tbody>\n",
       "</table>\n",
       "</div>"
      ],
      "text/plain": [
       "                  price  freight_value\n",
       "price          1.000000       0.414204\n",
       "freight_value  0.414204       1.000000"
      ]
     },
     "execution_count": 25,
     "metadata": {},
     "output_type": "execute_result"
    }
   ],
   "source": [
    "# Menghitung korelasi Pearson antara price dan freight_value:\n",
    "order_items_dataset[['price', 'freight_value']].corr()"
   ]
  },
  {
   "cell_type": "markdown",
   "metadata": {},
   "source": [
    "**Insight:**\n",
    "\n",
    "- Terdapat korelasi **positif sedang** sebesar **0.41** antara harga produk dan biaya pengiriman.\n",
    "- Artinya, produk yang lebih mahal cenderung memiliki ongkos kirim yang lebih tinggi, tetapi ini bukan hubungan yang sangat kuat."
   ]
  },
  {
   "cell_type": "code",
   "execution_count": 26,
   "metadata": {},
   "outputs": [
    {
     "data": {
      "application/vnd.microsoft.datawrangler.viewer.v0+json": {
       "columns": [
        {
         "name": "price_group",
         "rawType": "category",
         "type": "unknown"
        },
        {
         "name": "count",
         "rawType": "float64",
         "type": "float"
        },
        {
         "name": "mean",
         "rawType": "float64",
         "type": "float"
        },
        {
         "name": "std",
         "rawType": "float64",
         "type": "float"
        },
        {
         "name": "min",
         "rawType": "float64",
         "type": "float"
        },
        {
         "name": "25%",
         "rawType": "float64",
         "type": "float"
        },
        {
         "name": "50%",
         "rawType": "float64",
         "type": "float"
        },
        {
         "name": "75%",
         "rawType": "float64",
         "type": "float"
        },
        {
         "name": "max",
         "rawType": "float64",
         "type": "float"
        }
       ],
       "conversionMethod": "pd.DataFrame",
       "ref": "2df2a5c0-0344-4f2f-8cf7-1d18e2a44a26",
       "rows": [
        [
         "Murah",
         "28501.0",
         "14.364937370618573",
         "6.350382578372067",
         "0.02",
         "9.34",
         "14.22",
         "16.79",
         "121.95"
        ],
        [
         "Sedang",
         "27940.0",
         "16.5516861130995",
         "8.203199153214548",
         "0.0",
         "12.69",
         "15.25",
         "18.33",
         "215.43"
        ],
        [
         "Mahal",
         "28095.0",
         "19.985545470724325",
         "11.863061750676561",
         "0.0",
         "13.75",
         "17.1",
         "22.46",
         "186.01"
        ],
        [
         "Sangat Mahal",
         "28114.0",
         "29.11526107988902",
         "25.012483069020654",
         "0.0",
         "16.28",
         "20.634999999999998",
         "32.74",
         "409.68"
        ]
       ],
       "shape": {
        "columns": 8,
        "rows": 4
       }
      },
      "text/html": [
       "<div>\n",
       "<style scoped>\n",
       "    .dataframe tbody tr th:only-of-type {\n",
       "        vertical-align: middle;\n",
       "    }\n",
       "\n",
       "    .dataframe tbody tr th {\n",
       "        vertical-align: top;\n",
       "    }\n",
       "\n",
       "    .dataframe thead th {\n",
       "        text-align: right;\n",
       "    }\n",
       "</style>\n",
       "<table border=\"1\" class=\"dataframe\">\n",
       "  <thead>\n",
       "    <tr style=\"text-align: right;\">\n",
       "      <th></th>\n",
       "      <th>count</th>\n",
       "      <th>mean</th>\n",
       "      <th>std</th>\n",
       "      <th>min</th>\n",
       "      <th>25%</th>\n",
       "      <th>50%</th>\n",
       "      <th>75%</th>\n",
       "      <th>max</th>\n",
       "    </tr>\n",
       "    <tr>\n",
       "      <th>price_group</th>\n",
       "      <th></th>\n",
       "      <th></th>\n",
       "      <th></th>\n",
       "      <th></th>\n",
       "      <th></th>\n",
       "      <th></th>\n",
       "      <th></th>\n",
       "      <th></th>\n",
       "    </tr>\n",
       "  </thead>\n",
       "  <tbody>\n",
       "    <tr>\n",
       "      <th>Murah</th>\n",
       "      <td>28501.0</td>\n",
       "      <td>14.364937</td>\n",
       "      <td>6.350383</td>\n",
       "      <td>0.02</td>\n",
       "      <td>9.34</td>\n",
       "      <td>14.220</td>\n",
       "      <td>16.79</td>\n",
       "      <td>121.95</td>\n",
       "    </tr>\n",
       "    <tr>\n",
       "      <th>Sedang</th>\n",
       "      <td>27940.0</td>\n",
       "      <td>16.551686</td>\n",
       "      <td>8.203199</td>\n",
       "      <td>0.00</td>\n",
       "      <td>12.69</td>\n",
       "      <td>15.250</td>\n",
       "      <td>18.33</td>\n",
       "      <td>215.43</td>\n",
       "    </tr>\n",
       "    <tr>\n",
       "      <th>Mahal</th>\n",
       "      <td>28095.0</td>\n",
       "      <td>19.985545</td>\n",
       "      <td>11.863062</td>\n",
       "      <td>0.00</td>\n",
       "      <td>13.75</td>\n",
       "      <td>17.100</td>\n",
       "      <td>22.46</td>\n",
       "      <td>186.01</td>\n",
       "    </tr>\n",
       "    <tr>\n",
       "      <th>Sangat Mahal</th>\n",
       "      <td>28114.0</td>\n",
       "      <td>29.115261</td>\n",
       "      <td>25.012483</td>\n",
       "      <td>0.00</td>\n",
       "      <td>16.28</td>\n",
       "      <td>20.635</td>\n",
       "      <td>32.74</td>\n",
       "      <td>409.68</td>\n",
       "    </tr>\n",
       "  </tbody>\n",
       "</table>\n",
       "</div>"
      ],
      "text/plain": [
       "                count       mean        std   min    25%     50%    75%  \\\n",
       "price_group                                                               \n",
       "Murah         28501.0  14.364937   6.350383  0.02   9.34  14.220  16.79   \n",
       "Sedang        27940.0  16.551686   8.203199  0.00  12.69  15.250  18.33   \n",
       "Mahal         28095.0  19.985545  11.863062  0.00  13.75  17.100  22.46   \n",
       "Sangat Mahal  28114.0  29.115261  25.012483  0.00  16.28  20.635  32.74   \n",
       "\n",
       "                 max  \n",
       "price_group           \n",
       "Murah         121.95  \n",
       "Sedang        215.43  \n",
       "Mahal         186.01  \n",
       "Sangat Mahal  409.68  "
      ]
     },
     "execution_count": 26,
     "metadata": {},
     "output_type": "execute_result"
    }
   ],
   "source": [
    "# Distribusi Produk dengan Harga dan Ongkir Tinggi\n",
    "# Membuat kategori untuk melihat distribusi berdasarkan kuartil harga:\n",
    "order_items_dataset['price_group'] = pd.qcut(order_items_dataset['price'], q=4, labels=['Murah', 'Sedang', 'Mahal', 'Sangat Mahal'])\n",
    "order_items_dataset.groupby('price_group')['freight_value'].describe()"
   ]
  },
  {
   "cell_type": "markdown",
   "metadata": {},
   "source": [
    "**Insight:**\n",
    "\n",
    "- **Produk \"Sangat Mahal\"** memiliki ongkir rata-rata **29.1**, lebih tinggi dibandingkan kelompok lainnya.\n",
    "- Namun, meskipun mahal, **rasio ongkir terhadap harga tetap rendah**, yang menunjukkan efisiensi pengiriman terhadap nilai barang."
   ]
  },
  {
   "cell_type": "code",
   "execution_count": 27,
   "metadata": {},
   "outputs": [
    {
     "data": {
      "application/vnd.microsoft.datawrangler.viewer.v0+json": {
       "columns": [
        {
         "name": "index",
         "rawType": "object",
         "type": "string"
        },
        {
         "name": "shipping_ratio",
         "rawType": "float64",
         "type": "float"
        }
       ],
       "conversionMethod": "pd.DataFrame",
       "ref": "5f860469-af2d-49cd-b94b-f673184b61fc",
       "rows": [
        [
         "count",
         "112650.0"
        ],
        [
         "mean",
         "0.3208635490797801"
        ],
        [
         "std",
         "0.34989367873662347"
        ],
        [
         "min",
         "0.0"
        ],
        [
         "25%",
         "0.1340336612195251"
        ],
        [
         "50%",
         "0.23135623826460017"
        ],
        [
         "75%",
         "0.39303621169916436"
        ],
        [
         "max",
         "26.23529411764706"
        ]
       ],
       "shape": {
        "columns": 1,
        "rows": 8
       }
      },
      "text/html": [
       "<div>\n",
       "<style scoped>\n",
       "    .dataframe tbody tr th:only-of-type {\n",
       "        vertical-align: middle;\n",
       "    }\n",
       "\n",
       "    .dataframe tbody tr th {\n",
       "        vertical-align: top;\n",
       "    }\n",
       "\n",
       "    .dataframe thead th {\n",
       "        text-align: right;\n",
       "    }\n",
       "</style>\n",
       "<table border=\"1\" class=\"dataframe\">\n",
       "  <thead>\n",
       "    <tr style=\"text-align: right;\">\n",
       "      <th></th>\n",
       "      <th>shipping_ratio</th>\n",
       "    </tr>\n",
       "  </thead>\n",
       "  <tbody>\n",
       "    <tr>\n",
       "      <th>count</th>\n",
       "      <td>112650.000000</td>\n",
       "    </tr>\n",
       "    <tr>\n",
       "      <th>mean</th>\n",
       "      <td>0.320864</td>\n",
       "    </tr>\n",
       "    <tr>\n",
       "      <th>std</th>\n",
       "      <td>0.349894</td>\n",
       "    </tr>\n",
       "    <tr>\n",
       "      <th>min</th>\n",
       "      <td>0.000000</td>\n",
       "    </tr>\n",
       "    <tr>\n",
       "      <th>25%</th>\n",
       "      <td>0.134034</td>\n",
       "    </tr>\n",
       "    <tr>\n",
       "      <th>50%</th>\n",
       "      <td>0.231356</td>\n",
       "    </tr>\n",
       "    <tr>\n",
       "      <th>75%</th>\n",
       "      <td>0.393036</td>\n",
       "    </tr>\n",
       "    <tr>\n",
       "      <th>max</th>\n",
       "      <td>26.235294</td>\n",
       "    </tr>\n",
       "  </tbody>\n",
       "</table>\n",
       "</div>"
      ],
      "text/plain": [
       "       shipping_ratio\n",
       "count   112650.000000\n",
       "mean         0.320864\n",
       "std          0.349894\n",
       "min          0.000000\n",
       "25%          0.134034\n",
       "50%          0.231356\n",
       "75%          0.393036\n",
       "max         26.235294"
      ]
     },
     "execution_count": 27,
     "metadata": {},
     "output_type": "execute_result"
    }
   ],
   "source": [
    "# Rasio Ongkir terhadap Harga\n",
    "# Menambahkan kolom baru untuk melihat seberapa besar ongkir dibanding harga:\n",
    "order_items_dataset['shipping_ratio'] = order_items_dataset['freight_value'] / order_items_dataset['price']\n",
    "order_items_dataset[['shipping_ratio']].describe()"
   ]
  },
  {
   "cell_type": "markdown",
   "metadata": {},
   "source": [
    "**Insight:**\n",
    "\n",
    "- Rata-rata rasio ongkir adalah **32%** dari harga produk.\n",
    "- Namun ada kasus ekstrem (outlier) dengan ongkir lebih dari **26 kali lipat harga produk**, yang bisa jadi adalah produk sangat murah dengan ongkir tetap tinggi."
   ]
  },
  {
   "cell_type": "markdown",
   "metadata": {},
   "source": [
    "## Visualization & Explanatory Analysis"
   ]
  },
  {
   "cell_type": "markdown",
   "metadata": {},
   "source": [
    "### Pertanyaan 1:"
   ]
  },
  {
   "cell_type": "code",
   "execution_count": 28,
   "metadata": {},
   "outputs": [
    {
     "data": {
      "image/png": "[encoded data removed]",
      "text/plain": [
       "<Figure size 1200x600 with 2 Axes>"
      ]
     },
     "metadata": {},
     "output_type": "display_data"
    }
   ],
   "source": [
    "# Membuat figure dan axis\n",
    "fig, ax1 = plt.subplots(figsize=(12, 6))\n",
    "\n",
    "# Membuat bar chart untuk Jumlah Transaksi\n",
    "color = 'tab:orange'\n",
    "ax1.bar(monthly_stats['Bulan'], monthly_stats['Jumlah Transaksi'], color=color, alpha=0.6, label='Jumlah Transaksi')\n",
    "ax1.set_ylabel('Jumlah Transaksi', color=color)\n",
    "ax1.tick_params(axis='y', labelcolor=color)\n",
    "\n",
    "# Membuat twin axis untuk Total Pembayaran\n",
    "ax2 = ax1.twinx()\n",
    "color = 'tab:blue'\n",
    "ax2.plot(monthly_stats['Bulan'], monthly_stats['Total Pembayaran'], marker='o', color=color, label='Total Pembayaran')\n",
    "ax2.set_ylabel('Total Pembayaran', color=color)\n",
    "ax2.tick_params(axis='y', labelcolor=color)\n",
    "\n",
    "# Menambahkan judul\n",
    "plt.title('Tren Total Pembayaran dan Jumlah Transaksi per Bulan')\n",
    "\n",
    "# Menggabungkan legend dari kedua axis dan meletakkannya di kanan atas\n",
    "lines_1, labels_1 = ax1.get_legend_handles_labels()\n",
    "lines_2, labels_2 = ax2.get_legend_handles_labels()\n",
    "ax1.legend(lines_1 + lines_2, labels_1 + labels_2, loc='upper right')\n",
    "\n",
    "# Format tanggal di x-axis agar lebih rapi\n",
    "fig.autofmt_xdate()\n",
    "\n",
    "# Menambahkan grid dan mengatur layout agar tidak terpotong\n",
    "plt.grid(True)\n",
    "plt.tight_layout()\n",
    "\n",
    "# Menampilkan plot\n",
    "plt.show()"
   ]
  },
  {
   "cell_type": "markdown",
   "metadata": {},
   "source": [
    "**Insight:**\n",
    "\n",
    "- **Jumlah transaksi** meningkat tajam dari Oktober 2017 ke November 2017, menunjukkan adanya lonjakan aktivitas transaksi.\n",
    "- Sepanjang Desember 2017 hingga Agustus 2018, jumlah transaksi tetap **stabil tinggi**.\n",
    "- **Total pembayaran** per bulan relatif stabil selama periode tersebut, **tidak sepenuhnya mengikuti fluktuasi jumlah transaksi**, menandakan bahwa **rata-rata nilai transaksi per transaksi** cenderung konsisten.\n",
    "- Terlihat **sedikit kenaikan** pada total pembayaran di bulan April hingga Juli 2018, mengindikasikan adanya **peningkatan rata-rata nilai transaksi**.\n",
    "- **Penurunan drastis** baik pada jumlah transaksi maupun total pembayaran di September dan Oktober 2018 kemungkinan besar terjadi karena **data yang belum lengkap** (incomplete data)."
   ]
  },
  {
   "cell_type": "markdown",
   "metadata": {},
   "source": [
    "### Pertanyaan 2:"
   ]
  },
  {
   "cell_type": "markdown",
   "metadata": {},
   "source": [
    "**Korelasi antara Harga Produk dan Biaya Pengiriman**\n",
    "\n",
    "Melihat pola hubungan antara harga dan ongkir serta mengidentifikasi outlier."
   ]
  },
  {
   "cell_type": "code",
   "execution_count": 29,
   "metadata": {},
   "outputs": [
    {
     "data": {
      "image/png": "[encoded data removed]",
      "text/plain": [
       "<Figure size 800x600 with 1 Axes>"
      ]
     },
     "metadata": {},
     "output_type": "display_data"
    }
   ],
   "source": [
    "# Membuat figure baru untuk scatter plot\n",
    "plt.figure(figsize=(8, 6))\n",
    "\n",
    "# Membuat scatter plot antara harga produk dan biaya pengiriman\n",
    "sns.scatterplot(\n",
    "    data=order_items_dataset,\n",
    "    x='price',\n",
    "    y='freight_value',\n",
    "    alpha=0.3  # Membuat titik lebih transparan untuk mengurangi overplotting\n",
    ")\n",
    "\n",
    "# Memberi judul dan label sumbu\n",
    "plt.title('Scatter Plot: Harga vs Ongkir')\n",
    "plt.xlabel('Harga Produk')\n",
    "plt.ylabel('Biaya Pengiriman')\n",
    "\n",
    "# Mengatur layout agar elemen plot tidak terpotong\n",
    "plt.tight_layout()\n",
    "\n",
    "# Menampilkan plot\n",
    "plt.show()"
   ]
  },
  {
   "cell_type": "markdown",
   "metadata": {},
   "source": [
    "**Insight:**\n",
    "\n",
    "- Terlihat pola sebaran yang menyebar luas, dengan sebagian besar produk berada di rentang harga dan ongkir yang rendah.\n",
    "- Sebagian besar titik terkonsentrasi pada harga di bawah 500 dan ongkir di bawah 100.\n",
    "- Meski terdapat korelasi positif (sejalan dengan analisis sebelumnya, korelasi Pearson ≈ 0.41), hubungan antara harga produk dan ongkir tidak terlalu kuat.\n",
    "- Terdapat outlier di kedua sumbu, baik produk dengan harga tinggi dan ongkir tinggi, maupun produk murah dengan ongkir tinggi."
   ]
  },
  {
   "cell_type": "markdown",
   "metadata": {},
   "source": [
    "**Boxplot Ongkir per Kelompok Harga**\n",
    "\n",
    "Menampilkan perbedaan distribusi ongkir berdasarkan kelompok harga produk (Murah, Sedang, Mahal, Sangat Mahal)."
   ]
  },
  {
   "cell_type": "code",
   "execution_count": 30,
   "metadata": {},
   "outputs": [
    {
     "data": {
      "image/png": "[encoded data removed]",
      "text/plain": [
       "<Figure size 1500x800 with 1 Axes>"
      ]
     },
     "metadata": {},
     "output_type": "display_data"
    }
   ],
   "source": [
    "# Membuat figure baru untuk box plot\n",
    "plt.figure(figsize=(15, 8))\n",
    "\n",
    "# Membuat box plot untuk melihat distribusi biaya pengiriman berdasarkan kelompok harga\n",
    "sns.boxplot(\n",
    "    data=order_items_dataset,\n",
    "    x='price_group',  # Kelompok harga sebagai variabel kategorikal di sumbu x\n",
    "    y='freight_value'  # Biaya pengiriman sebagai variabel kontinu di sumbu y\n",
    ")\n",
    "\n",
    "# Menambahkan judul dan label sumbu\n",
    "plt.title('Distribusi Ongkir Berdasarkan Kelompok Harga')\n",
    "plt.xlabel('Kelompok Harga')\n",
    "plt.ylabel('Biaya Pengiriman')\n",
    "\n",
    "# Mengatur layout agar elemen plot tidak terpotong\n",
    "plt.tight_layout()\n",
    "\n",
    "# Menampilkan plot\n",
    "plt.show()"
   ]
  },
  {
   "cell_type": "markdown",
   "metadata": {},
   "source": [
    "**Insight:**\n",
    "\n",
    "- **Semakin tinggi kelompok harga**, distribusi ongkir **cenderung meningkat**, baik dari sisi median maupun rentang interkuartilnya.\n",
    "- Namun, distribusi ongkir masih **menumpuk di nilai rendah**, terutama di kelompok Murah dan Sedang.\n",
    "- Kelompok **Sangat Mahal memiliki outlier** ongkir yang sangat tinggi, mengindikasikan produk mahal belum tentu ongkirnya rendah secara proporsional.\n",
    "- Terdapat banyak outlier pada semua kelompok harga, menunjukkan **ketidakseimbangan dan potensi ketidaksesuaian biaya pengiriman**."
   ]
  },
  {
   "cell_type": "markdown",
   "metadata": {},
   "source": [
    "**Distribusi Rasio Ongkir terhadap Harga**\n",
    "\n",
    "Menunjukkan proporsi umum ongkir terhadap harga dan mengidentifikasi kasus dengan ongkir tidak proporsional."
   ]
  },
  {
   "cell_type": "code",
   "execution_count": 31,
   "metadata": {},
   "outputs": [
    {
     "data": {
      "image/png": "[encoded data removed]",
      "text/plain": [
       "<Figure size 800x600 with 1 Axes>"
      ]
     },
     "metadata": {},
     "output_type": "display_data"
    }
   ],
   "source": [
    "# Membuat figure baru untuk histogram\n",
    "plt.figure(figsize=(8, 6))\n",
    "\n",
    "# Membuat histogram dengan KDE untuk distribusi rasio ongkir terhadap harga produk\n",
    "sns.histplot(\n",
    "    order_items_dataset['shipping_ratio'],  # Kolom rasio ongkir terhadap harga\n",
    "    bins=100,  # Jumlah bin untuk histogram\n",
    "    kde=True  # Menambahkan garis Kernel Density Estimation (KDE)\n",
    ")\n",
    "\n",
    "# Mengatur batasan sumbu x untuk fokus pada rasio normal dan mengabaikan outlier\n",
    "plt.xlim(0, 2)\n",
    "\n",
    "# Menambahkan judul dan label sumbu\n",
    "plt.title('Distribusi Rasio Ongkir terhadap Harga Produk')\n",
    "plt.xlabel('Rasio Ongkir / Harga')\n",
    "plt.ylabel('Jumlah Produk')\n",
    "\n",
    "# Mengatur layout agar elemen plot tidak terpotong\n",
    "plt.tight_layout()\n",
    "\n",
    "# Menampilkan plot\n",
    "plt.show()"
   ]
  },
  {
   "cell_type": "markdown",
   "metadata": {},
   "source": [
    "**Insight:**\n",
    "\n",
    "- Rasio ongkir terhadap harga produk **berdistribusi miring ke kanan (right-skewed)**, dengan mayoritas produk memiliki ongkir < 50% dari harga produk.\n",
    "- **Sebagian besar produk (75%) memiliki rasio ongkir < 0.39**.\n",
    "- Terdapat kasus ekstrem (outlier) di mana ongkir lebih tinggi dari harga produk (rasio > 1), meskipun jumlahnya kecil.\n",
    "- Pola ini mengindikasikan bahwa secara umum, **ongkir tidak terlalu membebani harga produk**, namun tetap ada kasus-kasus khusus yang perlu perhatian."
   ]
  },
  {
   "cell_type": "markdown",
   "metadata": {
    "id": "_WeHlCeX8DC2"
   },
   "source": [
    "## Conclusion"
   ]
  },
  {
   "cell_type": "markdown",
   "metadata": {},
   "source": [
    "#### Pertanyaan 1: Membuat Prediksi (Visual Tren)\n",
    "\n",
    "> **Bagaimana perubahan nilai rata-rata pembayaran pelanggan dari waktu ke waktu selama 12 bulan terakhir, dan adakah periode tertentu yang menunjukkan tren kenaikan atau penurunan signifikan?**\n",
    "\n",
    "**Kesimpulan:**\n",
    "\n",
    "- **Tren nilai rata-rata pembayaran pelanggan relatif stabil** selama 12 bulan terakhir, dengan **fluktuasi kecil antar bulan**.\n",
    "- Terlihat **ada kenaikan yang lebih menonjol menjelang akhir tahun** (mungkin dipicu oleh musim belanja seperti promo akhir tahun, Harbolnas, atau libur panjang).\n",
    "- **Tidak terdapat penurunan signifikan yang konsisten**, meskipun ada sedikit penurunan sesaat di bulan-bulan tengah tahun.\n",
    "\n",
    "> **Rekomendasi:** Perusahaan dapat mempertimbangkan meningkatkan aktivitas promosi di kuartal akhir karena respons positif pasar terhadap harga dan belanja.\n",
    "\n",
    "#### Pertanyaan 2: Menemukan Hubungan\n",
    "\n",
    "> **Bagaimana hubungan antara harga produk dan biaya pengiriman dalam data pesanan?**\n",
    "\n",
    "**Kesimpulan:**\n",
    "\n",
    "- Terdapat **korelasi positif lemah** antara harga produk dan ongkos kirim (~0.41), yang menunjukkan bahwa **produk mahal cenderung memiliki ongkir lebih tinggi**, tapi **tidak selalu**.\n",
    "- Berdasarkan analisis distribusi:\n",
    "  - **Mayoritas ongkir tidak proporsional terhadap harga**; rasio ongkir/harga produk cenderung rendah, banyak di bawah 0.25.\n",
    "  - **Produk sangat mahal** justru menunjukkan **variasi ongkir yang lebih besar**, terlihat dari sebaran outlier yang tinggi di boxplot kelompok harga.\n",
    "  - Ada indikasi bahwa **berat atau dimensi fisik produk** mungkin lebih menentukan ongkir dibanding harganya.\n",
    "\n",
    "> **Rekomendasi:** Perlu dilakukan analisis lebih lanjut berdasarkan fitur seperti berat produk atau lokasi pengiriman untuk memahami faktor penentu utama ongkir."
   ]
  }
 ],
 "metadata": {
  "colab": {
   "provenance": []
  },
  "kernelspec": {
   "display_name": "project_1_coding_camp",
   "language": "python",
   "name": "python3"
  },
  "language_info": {
   "codemirror_mode": {
    "name": "ipython",
    "version": 3
   },
   "file_extension": ".py",
   "mimetype": "text/x-python",
   "name": "python",
   "nbconvert_exporter": "python",
   "pygments_lexer": "ipython3",
   "version": "3.10.16"
  }
 },
 "nbformat": 4,
 "nbformat_minor": 4
}
